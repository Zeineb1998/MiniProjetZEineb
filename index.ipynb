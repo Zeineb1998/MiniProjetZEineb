{
 "cells": [
  {
   "cell_type": "code",
   "execution_count": 1,
   "metadata": {},
   "outputs": [
    {
     "name": "stdout",
     "output_type": "stream",
     "text": [
      "Hello world\n"
     ]
    }
   ],
   "source": [
    "print('Hello world')"
   ]
  },
  {
   "cell_type": "code",
   "execution_count": 2,
   "metadata": {},
   "outputs": [],
   "source": [
    "import pandas as pd "
   ]
  },
  {
   "cell_type": "code",
   "execution_count": 4,
   "metadata": {},
   "outputs": [],
   "source": [
    "df=pd.read_csv(\"dataset/2023 QS World University Rankings.csv\")"
   ]
  },
  {
   "cell_type": "code",
   "execution_count": 5,
   "metadata": {},
   "outputs": [
    {
     "data": {
      "text/html": [
       "<div>\n",
       "<style scoped>\n",
       "    .dataframe tbody tr th:only-of-type {\n",
       "        vertical-align: middle;\n",
       "    }\n",
       "\n",
       "    .dataframe tbody tr th {\n",
       "        vertical-align: top;\n",
       "    }\n",
       "\n",
       "    .dataframe thead th {\n",
       "        text-align: right;\n",
       "    }\n",
       "</style>\n",
       "<table border=\"1\" class=\"dataframe\">\n",
       "  <thead>\n",
       "    <tr style=\"text-align: right;\">\n",
       "      <th></th>\n",
       "      <th>Rank</th>\n",
       "      <th>institution</th>\n",
       "      <th>location code</th>\n",
       "      <th>location</th>\n",
       "      <th>ar score</th>\n",
       "      <th>ar rank</th>\n",
       "      <th>er score</th>\n",
       "      <th>er rank</th>\n",
       "      <th>fsr score</th>\n",
       "      <th>fsr rank</th>\n",
       "      <th>...</th>\n",
       "      <th>cpf rank</th>\n",
       "      <th>ifr score</th>\n",
       "      <th>ifr rank</th>\n",
       "      <th>isr score</th>\n",
       "      <th>isr rank</th>\n",
       "      <th>irn score</th>\n",
       "      <th>irn rank</th>\n",
       "      <th>ger score</th>\n",
       "      <th>ger rank</th>\n",
       "      <th>score scaled</th>\n",
       "    </tr>\n",
       "  </thead>\n",
       "  <tbody>\n",
       "    <tr>\n",
       "      <th>0</th>\n",
       "      <td>1</td>\n",
       "      <td>Massachusetts Institute of Technology (MIT)</td>\n",
       "      <td>US</td>\n",
       "      <td>United States</td>\n",
       "      <td>100.0</td>\n",
       "      <td>5</td>\n",
       "      <td>100.0</td>\n",
       "      <td>4</td>\n",
       "      <td>100.0</td>\n",
       "      <td>14</td>\n",
       "      <td>...</td>\n",
       "      <td>5</td>\n",
       "      <td>100.0</td>\n",
       "      <td>54</td>\n",
       "      <td>90.0</td>\n",
       "      <td>109</td>\n",
       "      <td>96.1</td>\n",
       "      <td>58</td>\n",
       "      <td>100.0</td>\n",
       "      <td>3</td>\n",
       "      <td>100</td>\n",
       "    </tr>\n",
       "    <tr>\n",
       "      <th>1</th>\n",
       "      <td>2</td>\n",
       "      <td>University of Cambridge</td>\n",
       "      <td>UK</td>\n",
       "      <td>United Kingdom</td>\n",
       "      <td>100.0</td>\n",
       "      <td>2</td>\n",
       "      <td>100.0</td>\n",
       "      <td>2</td>\n",
       "      <td>100.0</td>\n",
       "      <td>11</td>\n",
       "      <td>...</td>\n",
       "      <td>55</td>\n",
       "      <td>100.0</td>\n",
       "      <td>60</td>\n",
       "      <td>96.3</td>\n",
       "      <td>70</td>\n",
       "      <td>99.5</td>\n",
       "      <td>6</td>\n",
       "      <td>100.0</td>\n",
       "      <td>9</td>\n",
       "      <td>98.8</td>\n",
       "    </tr>\n",
       "    <tr>\n",
       "      <th>2</th>\n",
       "      <td>3</td>\n",
       "      <td>Stanford University</td>\n",
       "      <td>US</td>\n",
       "      <td>United States</td>\n",
       "      <td>100.0</td>\n",
       "      <td>4</td>\n",
       "      <td>100.0</td>\n",
       "      <td>5</td>\n",
       "      <td>100.0</td>\n",
       "      <td>6</td>\n",
       "      <td>...</td>\n",
       "      <td>9</td>\n",
       "      <td>99.8</td>\n",
       "      <td>74</td>\n",
       "      <td>60.3</td>\n",
       "      <td>235</td>\n",
       "      <td>96.3</td>\n",
       "      <td>55</td>\n",
       "      <td>100.0</td>\n",
       "      <td>2</td>\n",
       "      <td>98.5</td>\n",
       "    </tr>\n",
       "    <tr>\n",
       "      <th>3</th>\n",
       "      <td>4</td>\n",
       "      <td>University of Oxford</td>\n",
       "      <td>UK</td>\n",
       "      <td>United Kingdom</td>\n",
       "      <td>100.0</td>\n",
       "      <td>3</td>\n",
       "      <td>100.0</td>\n",
       "      <td>3</td>\n",
       "      <td>100.0</td>\n",
       "      <td>8</td>\n",
       "      <td>...</td>\n",
       "      <td>64</td>\n",
       "      <td>98.8</td>\n",
       "      <td>101</td>\n",
       "      <td>98.4</td>\n",
       "      <td>54</td>\n",
       "      <td>99.9</td>\n",
       "      <td>3</td>\n",
       "      <td>100.0</td>\n",
       "      <td>7</td>\n",
       "      <td>98.4</td>\n",
       "    </tr>\n",
       "    <tr>\n",
       "      <th>4</th>\n",
       "      <td>5</td>\n",
       "      <td>Harvard University</td>\n",
       "      <td>US</td>\n",
       "      <td>United States</td>\n",
       "      <td>100.0</td>\n",
       "      <td>1</td>\n",
       "      <td>100.0</td>\n",
       "      <td>1</td>\n",
       "      <td>99.4</td>\n",
       "      <td>35</td>\n",
       "      <td>...</td>\n",
       "      <td>2</td>\n",
       "      <td>76.9</td>\n",
       "      <td>228</td>\n",
       "      <td>66.9</td>\n",
       "      <td>212</td>\n",
       "      <td>100.0</td>\n",
       "      <td>1</td>\n",
       "      <td>100.0</td>\n",
       "      <td>1</td>\n",
       "      <td>97.6</td>\n",
       "    </tr>\n",
       "  </tbody>\n",
       "</table>\n",
       "<p>5 rows × 21 columns</p>\n",
       "</div>"
      ],
      "text/plain": [
       "   Rank                                   institution location code  \\\n",
       "0     1  Massachusetts Institute of Technology (MIT)             US   \n",
       "1     2                       University of Cambridge            UK   \n",
       "2     3                           Stanford University            US   \n",
       "3     4                          University of Oxford            UK   \n",
       "4     5                            Harvard University            US   \n",
       "\n",
       "         location  ar score ar rank  er score er rank  fsr score fsr rank  \\\n",
       "0   United States     100.0       5     100.0       4      100.0       14   \n",
       "1  United Kingdom     100.0       2     100.0       2      100.0       11   \n",
       "2   United States     100.0       4     100.0       5      100.0        6   \n",
       "3  United Kingdom     100.0       3     100.0       3      100.0        8   \n",
       "4   United States     100.0       1     100.0       1       99.4       35   \n",
       "\n",
       "   ...  cpf rank ifr score  ifr rank isr score  isr rank irn score  irn rank  \\\n",
       "0  ...         5     100.0        54      90.0       109      96.1        58   \n",
       "1  ...        55     100.0        60      96.3        70      99.5         6   \n",
       "2  ...         9      99.8        74      60.3       235      96.3        55   \n",
       "3  ...        64      98.8       101      98.4        54      99.9         3   \n",
       "4  ...         2      76.9       228      66.9       212     100.0         1   \n",
       "\n",
       "  ger score  ger rank score scaled  \n",
       "0     100.0         3          100  \n",
       "1     100.0         9         98.8  \n",
       "2     100.0         2         98.5  \n",
       "3     100.0         7         98.4  \n",
       "4     100.0         1         97.6  \n",
       "\n",
       "[5 rows x 21 columns]"
      ]
     },
     "execution_count": 5,
     "metadata": {},
     "output_type": "execute_result"
    }
   ],
   "source": [
    "df.head()"
   ]
  },
  {
   "cell_type": "code",
   "execution_count": 7,
   "metadata": {},
   "outputs": [
    {
     "data": {
      "text/plain": [
       "(1422, 21)"
      ]
     },
     "execution_count": 7,
     "metadata": {},
     "output_type": "execute_result"
    }
   ],
   "source": [
    "df.shape"
   ]
  },
  {
   "cell_type": "code",
   "execution_count": 8,
   "metadata": {},
   "outputs": [],
   "source": [
    "import seaborn as sns \n",
    "import matplotlib.pyplot as plt \n",
    "\n",
    "plt.style.use(\"ggplot\")\n",
    "color_pal = sns.color_palette()"
   ]
  },
  {
   "cell_type": "code",
   "execution_count": 9,
   "metadata": {},
   "outputs": [
    {
     "data": {
      "text/plain": [
       "Rank               int64\n",
       "institution       object\n",
       "location code     object\n",
       "location          object\n",
       "ar score         float64\n",
       "ar rank           object\n",
       "er score         float64\n",
       "er rank           object\n",
       "fsr score        float64\n",
       "fsr rank          object\n",
       "cpf score        float64\n",
       "cpf rank          object\n",
       "ifr score        float64\n",
       "ifr rank          object\n",
       "isr score        float64\n",
       "isr rank          object\n",
       "irn score        float64\n",
       "irn rank          object\n",
       "ger score        float64\n",
       "ger rank          object\n",
       "score scaled      object\n",
       "dtype: object"
      ]
     },
     "execution_count": 9,
     "metadata": {},
     "output_type": "execute_result"
    }
   ],
   "source": [
    "df.dtypes\n"
   ]
  },
  {
   "cell_type": "code",
   "execution_count": 10,
   "metadata": {},
   "outputs": [
    {
     "data": {
      "image/png": "[encoded data removed]",
      "text/plain": [
       "<Figure size 1200x600 with 1 Axes>"
      ]
     },
     "metadata": {},
     "output_type": "display_data"
    }
   ],
   "source": [
    "plt.figure(figsize=(12, 6))\n",
    "\n",
    "df['location'].value_counts().head(10).plot(\n",
    "    kind='bar',\n",
    "    color=color_pal[4],\n",
    "    width=0.8,\n",
    "    edgecolor='black'\n",
    ")\n",
    "\n",
    "plt.xlabel(\"Nationality\", fontsize=15)\n",
    "plt.ylabel(\"Count\", fontsize=15)\n",
    "plt.title(\"Top 10 Countries\", fontsize=20)\n",
    "\n",
    "plt.xticks(rotation=45)\n",
    "\n",
    "plt.show()"
   ]
  },
  {
   "cell_type": "code",
   "execution_count": 14,
   "metadata": {},
   "outputs": [
    {
     "data": {
      "text/plain": [
       "Rank              0\n",
       "institution       0\n",
       "location code     0\n",
       "location          0\n",
       "ar score          0\n",
       "ar rank           0\n",
       "er score          1\n",
       "er rank           0\n",
       "fsr score         2\n",
       "fsr rank          0\n",
       "cpf score         5\n",
       "cpf rank          0\n",
       "ifr score        98\n",
       "ifr rank         98\n",
       "isr score        57\n",
       "isr rank         57\n",
       "irn score        13\n",
       "irn rank         13\n",
       "ger score        12\n",
       "ger rank         12\n",
       "score scaled      0\n",
       "dtype: int64"
      ]
     },
     "execution_count": 14,
     "metadata": {},
     "output_type": "execute_result"
    }
   ],
   "source": [
    "df.isna().sum()\n"
   ]
  },
  {
   "cell_type": "code",
   "execution_count": 15,
   "metadata": {},
   "outputs": [
    {
     "data": {
      "text/plain": [
       "United States       201\n",
       "United Kingdom       90\n",
       "China (Mainland)     71\n",
       "Japan                50\n",
       "Russia               48\n",
       "                   ... \n",
       "Paraguay              1\n",
       "Georgia               1\n",
       "Qatar                 1\n",
       "Kyrgyzstan            1\n",
       "Morocco               1\n",
       "Name: location, Length: 100, dtype: int64"
      ]
     },
     "execution_count": 15,
     "metadata": {},
     "output_type": "execute_result"
    }
   ],
   "source": [
    "df[\"location\"].value_counts()\n"
   ]
  },
  {
   "cell_type": "code",
   "execution_count": 17,
   "metadata": {},
   "outputs": [
    {
     "data": {
      "image/png": "[encoded data removed]",
      "text/plain": [
       "<Figure size 2000x2000 with 1 Axes>"
      ]
     },
     "metadata": {},
     "output_type": "display_data"
    }
   ],
   "source": [
    "plt.style.use('Solarize_Light2')\n",
    "plt.figure(figsize=(20,20))\n",
    "plt.title(\"Most Top-Ranked Universities by Countries\")\n",
    "country_count_plot = sns.countplot(data=df,y=\"location\")\n",
    "country_count_plot.set_xlabel(\"Number of Top-Ranked Universities per Country\")\n",
    "country_count_plot.set_ylabel(\"\")\n",
    "plt.show()"
   ]
  },
  {
   "cell_type": "code",
   "execution_count": 18,
   "metadata": {},
   "outputs": [
    {
     "data": {
      "text/plain": [
       "United States       201\n",
       "United Kingdom       90\n",
       "China (Mainland)     71\n",
       "Japan                50\n",
       "Russia               48\n",
       "Germany              46\n",
       "Italy                41\n",
       "South Korea          41\n",
       "India                41\n",
       "Australia            38\n",
       "Brazil               35\n",
       "Mexico               32\n",
       "France               32\n",
       "Canada               31\n",
       "Spain                31\n",
       "Taiwan               26\n",
       "Colombia             25\n",
       "Argentina            25\n",
       "Malaysia             24\n",
       "Turkey               24\n",
       "Name: location, dtype: int64"
      ]
     },
     "execution_count": 18,
     "metadata": {},
     "output_type": "execute_result"
    }
   ],
   "source": [
    "df[\"location\"].value_counts().head(20)\n"
   ]
  },
  {
   "cell_type": "code",
   "execution_count": 19,
   "metadata": {},
   "outputs": [
    {
     "data": {
      "image/png": "[encoded data removed]",
      "text/plain": [
       "<Figure size 1000x1000 with 1 Axes>"
      ]
     },
     "metadata": {},
     "output_type": "display_data"
    }
   ],
   "source": [
    "plt.style.use('Solarize_Light2')\n",
    "plt.figure(figsize=(10,10))\n",
    "plt.title(\"Top 20 countries with the Most Top-Ranked Universities \")\n",
    "plt.xlabel(\"Number of Top-Ranked Universities per Country\")\n",
    "df[\"location\"].value_counts().head(20).plot(kind=\"barh\",color=\"c\")\n",
    "plt.show()"
   ]
  },
  {
   "cell_type": "code",
   "execution_count": 20,
   "metadata": {},
   "outputs": [
    {
     "name": "stdout",
     "output_type": "stream",
     "text": [
      "|    |   Rank | institution                                 | location code   | location       |   ar score |   ar rank |   er score |   er rank |   fsr score |   fsr rank |   cpf score |   cpf rank |   ifr score |   ifr rank |   isr score |   isr rank |   irn score |   irn rank |   ger score |   ger rank |   score scaled |\n",
      "|---:|-------:|:--------------------------------------------|:----------------|:---------------|-----------:|----------:|-----------:|----------:|------------:|-----------:|------------:|-----------:|------------:|-----------:|------------:|-----------:|------------:|-----------:|------------:|-----------:|---------------:|\n",
      "|  0 |      1 | Massachusetts Institute of Technology (MIT) | US              | United States  |        100 |         5 |        100 |         4 |         100 |         14 |       100   |          5 |         100 |         54 |        90   |        109 |        96.1 |         58 |         100 |          3 |          100   |\n",
      "|  1 |      2 | University of Cambridge                     | UK              | United Kingdom |        100 |         2 |        100 |         2 |         100 |         11 |        92.3 |         55 |         100 |         60 |        96.3 |         70 |        99.5 |          6 |         100 |          9 |           98.8 |\n"
     ]
    }
   ],
   "source": [
    "print (df.head(2).to_markdown())"
   ]
  },
  {
   "cell_type": "code",
   "execution_count": 28,
   "metadata": {},
   "outputs": [],
   "source": [
    "import plotly.express as px\n",
    "import plotly.io as pio"
   ]
  },
  {
   "cell_type": "code",
   "execution_count": 35,
   "metadata": {},
   "outputs": [
    {
     "name": "stderr",
     "output_type": "stream",
     "text": [
      "UsageError: Line magic function `%` not found.\n"
     ]
    }
   ],
   "source": [
    "% matplotlib inline\n",
    "import seaborn as sns\n",
    "import plotly.express as px\n",
    "import plotly.io as pio"
   ]
  },
  {
   "cell_type": "code",
   "execution_count": 38,
   "metadata": {},
   "outputs": [
    {
     "data": {
      "text/html": [
       "<div>\n",
       "<style scoped>\n",
       "    .dataframe tbody tr th:only-of-type {\n",
       "        vertical-align: middle;\n",
       "    }\n",
       "\n",
       "    .dataframe tbody tr th {\n",
       "        vertical-align: top;\n",
       "    }\n",
       "\n",
       "    .dataframe thead th {\n",
       "        text-align: right;\n",
       "    }\n",
       "</style>\n",
       "<table border=\"1\" class=\"dataframe\">\n",
       "  <thead>\n",
       "    <tr style=\"text-align: right;\">\n",
       "      <th></th>\n",
       "      <th>Rank</th>\n",
       "      <th>institution</th>\n",
       "      <th>location code</th>\n",
       "      <th>location</th>\n",
       "      <th>ar score</th>\n",
       "      <th>ar rank</th>\n",
       "      <th>er score</th>\n",
       "      <th>er rank</th>\n",
       "      <th>fsr score</th>\n",
       "      <th>fsr rank</th>\n",
       "      <th>...</th>\n",
       "      <th>cpf rank</th>\n",
       "      <th>ifr score</th>\n",
       "      <th>ifr rank</th>\n",
       "      <th>isr score</th>\n",
       "      <th>isr rank</th>\n",
       "      <th>irn score</th>\n",
       "      <th>irn rank</th>\n",
       "      <th>ger score</th>\n",
       "      <th>ger rank</th>\n",
       "      <th>score scaled</th>\n",
       "    </tr>\n",
       "  </thead>\n",
       "  <tbody>\n",
       "    <tr>\n",
       "      <th>0</th>\n",
       "      <td>1</td>\n",
       "      <td>Massachusetts Institute of Technology (MIT)</td>\n",
       "      <td>US</td>\n",
       "      <td>United States</td>\n",
       "      <td>100.0</td>\n",
       "      <td>5</td>\n",
       "      <td>100.0</td>\n",
       "      <td>4</td>\n",
       "      <td>100.0</td>\n",
       "      <td>14</td>\n",
       "      <td>...</td>\n",
       "      <td>5</td>\n",
       "      <td>100.0</td>\n",
       "      <td>54</td>\n",
       "      <td>90.0</td>\n",
       "      <td>109</td>\n",
       "      <td>96.1</td>\n",
       "      <td>58</td>\n",
       "      <td>100.0</td>\n",
       "      <td>3</td>\n",
       "      <td>100</td>\n",
       "    </tr>\n",
       "    <tr>\n",
       "      <th>2</th>\n",
       "      <td>3</td>\n",
       "      <td>Stanford University</td>\n",
       "      <td>US</td>\n",
       "      <td>United States</td>\n",
       "      <td>100.0</td>\n",
       "      <td>4</td>\n",
       "      <td>100.0</td>\n",
       "      <td>5</td>\n",
       "      <td>100.0</td>\n",
       "      <td>6</td>\n",
       "      <td>...</td>\n",
       "      <td>9</td>\n",
       "      <td>99.8</td>\n",
       "      <td>74</td>\n",
       "      <td>60.3</td>\n",
       "      <td>235</td>\n",
       "      <td>96.3</td>\n",
       "      <td>55</td>\n",
       "      <td>100.0</td>\n",
       "      <td>2</td>\n",
       "      <td>98.5</td>\n",
       "    </tr>\n",
       "    <tr>\n",
       "      <th>4</th>\n",
       "      <td>5</td>\n",
       "      <td>Harvard University</td>\n",
       "      <td>US</td>\n",
       "      <td>United States</td>\n",
       "      <td>100.0</td>\n",
       "      <td>1</td>\n",
       "      <td>100.0</td>\n",
       "      <td>1</td>\n",
       "      <td>99.4</td>\n",
       "      <td>35</td>\n",
       "      <td>...</td>\n",
       "      <td>2</td>\n",
       "      <td>76.9</td>\n",
       "      <td>228</td>\n",
       "      <td>66.9</td>\n",
       "      <td>212</td>\n",
       "      <td>100.0</td>\n",
       "      <td>1</td>\n",
       "      <td>100.0</td>\n",
       "      <td>1</td>\n",
       "      <td>97.6</td>\n",
       "    </tr>\n",
       "    <tr>\n",
       "      <th>5</th>\n",
       "      <td>6</td>\n",
       "      <td>California Institute of Technology (Caltech)</td>\n",
       "      <td>US</td>\n",
       "      <td>United States</td>\n",
       "      <td>96.5</td>\n",
       "      <td>28</td>\n",
       "      <td>87.1</td>\n",
       "      <td>58</td>\n",
       "      <td>100.0</td>\n",
       "      <td>3</td>\n",
       "      <td>...</td>\n",
       "      <td>4</td>\n",
       "      <td>99.8</td>\n",
       "      <td>75</td>\n",
       "      <td>85.1</td>\n",
       "      <td>134</td>\n",
       "      <td>73.0</td>\n",
       "      <td>425</td>\n",
       "      <td>98.8</td>\n",
       "      <td>24</td>\n",
       "      <td>97</td>\n",
       "    </tr>\n",
       "    <tr>\n",
       "      <th>9</th>\n",
       "      <td>10</td>\n",
       "      <td>University of Chicago</td>\n",
       "      <td>US</td>\n",
       "      <td>United States</td>\n",
       "      <td>99.2</td>\n",
       "      <td>16</td>\n",
       "      <td>92.2</td>\n",
       "      <td>46</td>\n",
       "      <td>92.9</td>\n",
       "      <td>71</td>\n",
       "      <td>...</td>\n",
       "      <td>79</td>\n",
       "      <td>81.6</td>\n",
       "      <td>214</td>\n",
       "      <td>76.0</td>\n",
       "      <td>176</td>\n",
       "      <td>89.6</td>\n",
       "      <td>170</td>\n",
       "      <td>98.2</td>\n",
       "      <td>30</td>\n",
       "      <td>93.2</td>\n",
       "    </tr>\n",
       "    <tr>\n",
       "      <th>12</th>\n",
       "      <td>13</td>\n",
       "      <td>University of Pennsylvania</td>\n",
       "      <td>US</td>\n",
       "      <td>United States</td>\n",
       "      <td>96.5</td>\n",
       "      <td>29</td>\n",
       "      <td>92.5</td>\n",
       "      <td>45</td>\n",
       "      <td>99.9</td>\n",
       "      <td>23</td>\n",
       "      <td>...</td>\n",
       "      <td>142</td>\n",
       "      <td>96.2</td>\n",
       "      <td>128</td>\n",
       "      <td>66.1</td>\n",
       "      <td>215</td>\n",
       "      <td>93.3</td>\n",
       "      <td>104</td>\n",
       "      <td>100.0</td>\n",
       "      <td>5</td>\n",
       "      <td>90.6</td>\n",
       "    </tr>\n",
       "    <tr>\n",
       "      <th>16</th>\n",
       "      <td>17</td>\n",
       "      <td>Princeton University</td>\n",
       "      <td>US</td>\n",
       "      <td>United States</td>\n",
       "      <td>99.9</td>\n",
       "      <td>10</td>\n",
       "      <td>98.9</td>\n",
       "      <td>14</td>\n",
       "      <td>72.6</td>\n",
       "      <td>172</td>\n",
       "      <td>...</td>\n",
       "      <td>3</td>\n",
       "      <td>26.0</td>\n",
       "      <td>515</td>\n",
       "      <td>62.2</td>\n",
       "      <td>226</td>\n",
       "      <td>78.5</td>\n",
       "      <td>340</td>\n",
       "      <td>100.0</td>\n",
       "      <td>8</td>\n",
       "      <td>89.2</td>\n",
       "    </tr>\n",
       "    <tr>\n",
       "      <th>17</th>\n",
       "      <td>18</td>\n",
       "      <td>Yale University</td>\n",
       "      <td>US</td>\n",
       "      <td>United States</td>\n",
       "      <td>99.9</td>\n",
       "      <td>9</td>\n",
       "      <td>100.0</td>\n",
       "      <td>7</td>\n",
       "      <td>100.0</td>\n",
       "      <td>2</td>\n",
       "      <td>...</td>\n",
       "      <td>249</td>\n",
       "      <td>89.2</td>\n",
       "      <td>179</td>\n",
       "      <td>77.3</td>\n",
       "      <td>165</td>\n",
       "      <td>92.0</td>\n",
       "      <td>123</td>\n",
       "      <td>100.0</td>\n",
       "      <td>4</td>\n",
       "      <td>89</td>\n",
       "    </tr>\n",
       "    <tr>\n",
       "      <th>19</th>\n",
       "      <td>20</td>\n",
       "      <td>Cornell University</td>\n",
       "      <td>US</td>\n",
       "      <td>United States</td>\n",
       "      <td>98.3</td>\n",
       "      <td>23</td>\n",
       "      <td>91.4</td>\n",
       "      <td>50</td>\n",
       "      <td>62.2</td>\n",
       "      <td>245</td>\n",
       "      <td>...</td>\n",
       "      <td>17</td>\n",
       "      <td>63.9</td>\n",
       "      <td>290</td>\n",
       "      <td>55.3</td>\n",
       "      <td>256</td>\n",
       "      <td>90.0</td>\n",
       "      <td>161</td>\n",
       "      <td>99.5</td>\n",
       "      <td>19</td>\n",
       "      <td>87.2</td>\n",
       "    </tr>\n",
       "    <tr>\n",
       "      <th>21</th>\n",
       "      <td>22</td>\n",
       "      <td>Columbia University</td>\n",
       "      <td>US</td>\n",
       "      <td>United States</td>\n",
       "      <td>99.7</td>\n",
       "      <td>11</td>\n",
       "      <td>98.1</td>\n",
       "      <td>20</td>\n",
       "      <td>100.0</td>\n",
       "      <td>12</td>\n",
       "      <td>...</td>\n",
       "      <td>282</td>\n",
       "      <td>47.6</td>\n",
       "      <td>369</td>\n",
       "      <td>94.6</td>\n",
       "      <td>85</td>\n",
       "      <td>98.9</td>\n",
       "      <td>14</td>\n",
       "      <td>99.8</td>\n",
       "      <td>11</td>\n",
       "      <td>86.7</td>\n",
       "    </tr>\n",
       "  </tbody>\n",
       "</table>\n",
       "<p>10 rows × 21 columns</p>\n",
       "</div>"
      ],
      "text/plain": [
       "    Rank                                   institution location code  \\\n",
       "0      1  Massachusetts Institute of Technology (MIT)             US   \n",
       "2      3                           Stanford University            US   \n",
       "4      5                            Harvard University            US   \n",
       "5      6  California Institute of Technology (Caltech)            US   \n",
       "9     10                         University of Chicago            US   \n",
       "12    13                    University of Pennsylvania            US   \n",
       "16    17                          Princeton University            US   \n",
       "17    18                               Yale University            US   \n",
       "19    20                            Cornell University            US   \n",
       "21    22                           Columbia University            US   \n",
       "\n",
       "         location  ar score ar rank  er score er rank  fsr score fsr rank  \\\n",
       "0   United States     100.0       5     100.0       4      100.0       14   \n",
       "2   United States     100.0       4     100.0       5      100.0        6   \n",
       "4   United States     100.0       1     100.0       1       99.4       35   \n",
       "5   United States      96.5      28      87.1      58      100.0        3   \n",
       "9   United States      99.2      16      92.2      46       92.9       71   \n",
       "12  United States      96.5      29      92.5      45       99.9       23   \n",
       "16  United States      99.9      10      98.9      14       72.6      172   \n",
       "17  United States      99.9       9     100.0       7      100.0        2   \n",
       "19  United States      98.3      23      91.4      50       62.2      245   \n",
       "21  United States      99.7      11      98.1      20      100.0       12   \n",
       "\n",
       "    ...  cpf rank ifr score  ifr rank isr score  isr rank irn score  irn rank  \\\n",
       "0   ...         5     100.0        54      90.0       109      96.1        58   \n",
       "2   ...         9      99.8        74      60.3       235      96.3        55   \n",
       "4   ...         2      76.9       228      66.9       212     100.0         1   \n",
       "5   ...         4      99.8        75      85.1       134      73.0       425   \n",
       "9   ...        79      81.6       214      76.0       176      89.6       170   \n",
       "12  ...       142      96.2       128      66.1       215      93.3       104   \n",
       "16  ...         3      26.0       515      62.2       226      78.5       340   \n",
       "17  ...       249      89.2       179      77.3       165      92.0       123   \n",
       "19  ...        17      63.9       290      55.3       256      90.0       161   \n",
       "21  ...       282      47.6       369      94.6        85      98.9        14   \n",
       "\n",
       "   ger score  ger rank score scaled  \n",
       "0      100.0         3          100  \n",
       "2      100.0         2         98.5  \n",
       "4      100.0         1         97.6  \n",
       "5       98.8        24           97  \n",
       "9       98.2        30         93.2  \n",
       "12     100.0         5         90.6  \n",
       "16     100.0         8         89.2  \n",
       "17     100.0         4           89  \n",
       "19      99.5        19         87.2  \n",
       "21      99.8        11         86.7  \n",
       "\n",
       "[10 rows x 21 columns]"
      ]
     },
     "execution_count": 38,
     "metadata": {},
     "output_type": "execute_result"
    }
   ],
   "source": [
    "df_us = df[df['location']=='United States']\n",
    "df_us[:10]"
   ]
  },
  {
   "cell_type": "code",
   "execution_count": 42,
   "metadata": {},
   "outputs": [],
   "source": [
    "import plotly.graph_objects as go\n",
    "import plotly.offline as pyo"
   ]
  },
  {
   "cell_type": "code",
   "execution_count": 43,
   "metadata": {},
   "outputs": [
    {
     "data": {
      "application/vnd.plotly.v1+json": {
       "config": {
        "plotlyServerURL": "https://plot.ly"
       },
       "data": [
        {
         "fill": "toself",
         "name": "Product A",
         "r": [
          100,
          100,
          99.4,
          100,
          76.9,
          66.9,
          100,
          100
         ],
         "theta": [
          "Academic Reputation",
          "Employer Reputation",
          "Faculty Student Ratio",
          "Citations per faculty",
          "International Faculty",
          "International Student",
          "International Research Network",
          "Employement Outcome"
         ],
         "type": "scatterpolar"
        }
       ],
       "layout": {
        "polar": {
         "radialaxis": {
          "visible": true
         }
        },
        "showlegend": false,
        "template": {
         "data": {
          "bar": [
           {
            "error_x": {
             "color": "#2a3f5f"
            },
            "error_y": {
             "color": "#2a3f5f"
            },
            "marker": {
             "line": {
              "color": "#E5ECF6",
              "width": 0.5
             },
             "pattern": {
              "fillmode": "overlay",
              "size": 10,
              "solidity": 0.2
             }
            },
            "type": "bar"
           }
          ],
          "barpolar": [
           {
            "marker": {
             "line": {
              "color": "#E5ECF6",
              "width": 0.5
             },
             "pattern": {
              "fillmode": "overlay",
              "size": 10,
              "solidity": 0.2
             }
            },
            "type": "barpolar"
           }
          ],
          "carpet": [
           {
            "aaxis": {
             "endlinecolor": "#2a3f5f",
             "gridcolor": "white",
             "linecolor": "white",
             "minorgridcolor": "white",
             "startlinecolor": "#2a3f5f"
            },
            "baxis": {
             "endlinecolor": "#2a3f5f",
             "gridcolor": "white",
             "linecolor": "white",
             "minorgridcolor": "white",
             "startlinecolor": "#2a3f5f"
            },
            "type": "carpet"
           }
          ],
          "choropleth": [
           {
            "colorbar": {
             "outlinewidth": 0,
             "ticks": ""
            },
            "type": "choropleth"
           }
          ],
          "contour": [
           {
            "colorbar": {
             "outlinewidth": 0,
             "ticks": ""
            },
            "colorscale": [
             [
              0,
              "#0d0887"
             ],
             [
              0.1111111111111111,
              "#46039f"
             ],
             [
              0.2222222222222222,
              "#7201a8"
             ],
             [
              0.3333333333333333,
              "#9c179e"
             ],
             [
              0.4444444444444444,
              "#bd3786"
             ],
             [
              0.5555555555555556,
              "#d8576b"
             ],
             [
              0.6666666666666666,
              "#ed7953"
             ],
             [
              0.7777777777777778,
              "#fb9f3a"
             ],
             [
              0.8888888888888888,
              "#fdca26"
             ],
             [
              1,
              "#f0f921"
             ]
            ],
            "type": "contour"
           }
          ],
          "contourcarpet": [
           {
            "colorbar": {
             "outlinewidth": 0,
             "ticks": ""
            },
            "type": "contourcarpet"
           }
          ],
          "heatmap": [
           {
            "colorbar": {
             "outlinewidth": 0,
             "ticks": ""
            },
            "colorscale": [
             [
              0,
              "#0d0887"
             ],
             [
              0.1111111111111111,
              "#46039f"
             ],
             [
              0.2222222222222222,
              "#7201a8"
             ],
             [
              0.3333333333333333,
              "#9c179e"
             ],
             [
              0.4444444444444444,
              "#bd3786"
             ],
             [
              0.5555555555555556,
              "#d8576b"
             ],
             [
              0.6666666666666666,
              "#ed7953"
             ],
             [
              0.7777777777777778,
              "#fb9f3a"
             ],
             [
              0.8888888888888888,
              "#fdca26"
             ],
             [
              1,
              "#f0f921"
             ]
            ],
            "type": "heatmap"
           }
          ],
          "heatmapgl": [
           {
            "colorbar": {
             "outlinewidth": 0,
             "ticks": ""
            },
            "colorscale": [
             [
              0,
              "#0d0887"
             ],
             [
              0.1111111111111111,
              "#46039f"
             ],
             [
              0.2222222222222222,
              "#7201a8"
             ],
             [
              0.3333333333333333,
              "#9c179e"
             ],
             [
              0.4444444444444444,
              "#bd3786"
             ],
             [
              0.5555555555555556,
              "#d8576b"
             ],
             [
              0.6666666666666666,
              "#ed7953"
             ],
             [
              0.7777777777777778,
              "#fb9f3a"
             ],
             [
              0.8888888888888888,
              "#fdca26"
             ],
             [
              1,
              "#f0f921"
             ]
            ],
            "type": "heatmapgl"
           }
          ],
          "histogram": [
           {
            "marker": {
             "pattern": {
              "fillmode": "overlay",
              "size": 10,
              "solidity": 0.2
             }
            },
            "type": "histogram"
           }
          ],
          "histogram2d": [
           {
            "colorbar": {
             "outlinewidth": 0,
             "ticks": ""
            },
            "colorscale": [
             [
              0,
              "#0d0887"
             ],
             [
              0.1111111111111111,
              "#46039f"
             ],
             [
              0.2222222222222222,
              "#7201a8"
             ],
             [
              0.3333333333333333,
              "#9c179e"
             ],
             [
              0.4444444444444444,
              "#bd3786"
             ],
             [
              0.5555555555555556,
              "#d8576b"
             ],
             [
              0.6666666666666666,
              "#ed7953"
             ],
             [
              0.7777777777777778,
              "#fb9f3a"
             ],
             [
              0.8888888888888888,
              "#fdca26"
             ],
             [
              1,
              "#f0f921"
             ]
            ],
            "type": "histogram2d"
           }
          ],
          "histogram2dcontour": [
           {
            "colorbar": {
             "outlinewidth": 0,
             "ticks": ""
            },
            "colorscale": [
             [
              0,
              "#0d0887"
             ],
             [
              0.1111111111111111,
              "#46039f"
             ],
             [
              0.2222222222222222,
              "#7201a8"
             ],
             [
              0.3333333333333333,
              "#9c179e"
             ],
             [
              0.4444444444444444,
              "#bd3786"
             ],
             [
              0.5555555555555556,
              "#d8576b"
             ],
             [
              0.6666666666666666,
              "#ed7953"
             ],
             [
              0.7777777777777778,
              "#fb9f3a"
             ],
             [
              0.8888888888888888,
              "#fdca26"
             ],
             [
              1,
              "#f0f921"
             ]
            ],
            "type": "histogram2dcontour"
           }
          ],
          "mesh3d": [
           {
            "colorbar": {
             "outlinewidth": 0,
             "ticks": ""
            },
            "type": "mesh3d"
           }
          ],
          "parcoords": [
           {
            "line": {
             "colorbar": {
              "outlinewidth": 0,
              "ticks": ""
             }
            },
            "type": "parcoords"
           }
          ],
          "pie": [
           {
            "automargin": true,
            "type": "pie"
           }
          ],
          "scatter": [
           {
            "fillpattern": {
             "fillmode": "overlay",
             "size": 10,
             "solidity": 0.2
            },
            "type": "scatter"
           }
          ],
          "scatter3d": [
           {
            "line": {
             "colorbar": {
              "outlinewidth": 0,
              "ticks": ""
             }
            },
            "marker": {
             "colorbar": {
              "outlinewidth": 0,
              "ticks": ""
             }
            },
            "type": "scatter3d"
           }
          ],
          "scattercarpet": [
           {
            "marker": {
             "colorbar": {
              "outlinewidth": 0,
              "ticks": ""
             }
            },
            "type": "scattercarpet"
           }
          ],
          "scattergeo": [
           {
            "marker": {
             "colorbar": {
              "outlinewidth": 0,
              "ticks": ""
             }
            },
            "type": "scattergeo"
           }
          ],
          "scattergl": [
           {
            "marker": {
             "colorbar": {
              "outlinewidth": 0,
              "ticks": ""
             }
            },
            "type": "scattergl"
           }
          ],
          "scattermapbox": [
           {
            "marker": {
             "colorbar": {
              "outlinewidth": 0,
              "ticks": ""
             }
            },
            "type": "scattermapbox"
           }
          ],
          "scatterpolar": [
           {
            "marker": {
             "colorbar": {
              "outlinewidth": 0,
              "ticks": ""
             }
            },
            "type": "scatterpolar"
           }
          ],
          "scatterpolargl": [
           {
            "marker": {
             "colorbar": {
              "outlinewidth": 0,
              "ticks": ""
             }
            },
            "type": "scatterpolargl"
           }
          ],
          "scatterternary": [
           {
            "marker": {
             "colorbar": {
              "outlinewidth": 0,
              "ticks": ""
             }
            },
            "type": "scatterternary"
           }
          ],
          "surface": [
           {
            "colorbar": {
             "outlinewidth": 0,
             "ticks": ""
            },
            "colorscale": [
             [
              0,
              "#0d0887"
             ],
             [
              0.1111111111111111,
              "#46039f"
             ],
             [
              0.2222222222222222,
              "#7201a8"
             ],
             [
              0.3333333333333333,
              "#9c179e"
             ],
             [
              0.4444444444444444,
              "#bd3786"
             ],
             [
              0.5555555555555556,
              "#d8576b"
             ],
             [
              0.6666666666666666,
              "#ed7953"
             ],
             [
              0.7777777777777778,
              "#fb9f3a"
             ],
             [
              0.8888888888888888,
              "#fdca26"
             ],
             [
              1,
              "#f0f921"
             ]
            ],
            "type": "surface"
           }
          ],
          "table": [
           {
            "cells": {
             "fill": {
              "color": "#EBF0F8"
             },
             "line": {
              "color": "white"
             }
            },
            "header": {
             "fill": {
              "color": "#C8D4E3"
             },
             "line": {
              "color": "white"
             }
            },
            "type": "table"
           }
          ]
         },
         "layout": {
          "annotationdefaults": {
           "arrowcolor": "#2a3f5f",
           "arrowhead": 0,
           "arrowwidth": 1
          },
          "autotypenumbers": "strict",
          "coloraxis": {
           "colorbar": {
            "outlinewidth": 0,
            "ticks": ""
           }
          },
          "colorscale": {
           "diverging": [
            [
             0,
             "#8e0152"
            ],
            [
             0.1,
             "#c51b7d"
            ],
            [
             0.2,
             "#de77ae"
            ],
            [
             0.3,
             "#f1b6da"
            ],
            [
             0.4,
             "#fde0ef"
            ],
            [
             0.5,
             "#f7f7f7"
            ],
            [
             0.6,
             "#e6f5d0"
            ],
            [
             0.7,
             "#b8e186"
            ],
            [
             0.8,
             "#7fbc41"
            ],
            [
             0.9,
             "#4d9221"
            ],
            [
             1,
             "#276419"
            ]
           ],
           "sequential": [
            [
             0,
             "#0d0887"
            ],
            [
             0.1111111111111111,
             "#46039f"
            ],
            [
             0.2222222222222222,
             "#7201a8"
            ],
            [
             0.3333333333333333,
             "#9c179e"
            ],
            [
             0.4444444444444444,
             "#bd3786"
            ],
            [
             0.5555555555555556,
             "#d8576b"
            ],
            [
             0.6666666666666666,
             "#ed7953"
            ],
            [
             0.7777777777777778,
             "#fb9f3a"
            ],
            [
             0.8888888888888888,
             "#fdca26"
            ],
            [
             1,
             "#f0f921"
            ]
           ],
           "sequentialminus": [
            [
             0,
             "#0d0887"
            ],
            [
             0.1111111111111111,
             "#46039f"
            ],
            [
             0.2222222222222222,
             "#7201a8"
            ],
            [
             0.3333333333333333,
             "#9c179e"
            ],
            [
             0.4444444444444444,
             "#bd3786"
            ],
            [
             0.5555555555555556,
             "#d8576b"
            ],
            [
             0.6666666666666666,
             "#ed7953"
            ],
            [
             0.7777777777777778,
             "#fb9f3a"
            ],
            [
             0.8888888888888888,
             "#fdca26"
            ],
            [
             1,
             "#f0f921"
            ]
           ]
          },
          "colorway": [
           "#636efa",
           "#EF553B",
           "#00cc96",
           "#ab63fa",
           "#FFA15A",
           "#19d3f3",
           "#FF6692",
           "#B6E880",
           "#FF97FF",
           "#FECB52"
          ],
          "font": {
           "color": "#2a3f5f"
          },
          "geo": {
           "bgcolor": "white",
           "lakecolor": "white",
           "landcolor": "#E5ECF6",
           "showlakes": true,
           "showland": true,
           "subunitcolor": "white"
          },
          "hoverlabel": {
           "align": "left"
          },
          "hovermode": "closest",
          "mapbox": {
           "style": "light"
          },
          "paper_bgcolor": "white",
          "plot_bgcolor": "#E5ECF6",
          "polar": {
           "angularaxis": {
            "gridcolor": "white",
            "linecolor": "white",
            "ticks": ""
           },
           "bgcolor": "#E5ECF6",
           "radialaxis": {
            "gridcolor": "white",
            "linecolor": "white",
            "ticks": ""
           }
          },
          "scene": {
           "xaxis": {
            "backgroundcolor": "#E5ECF6",
            "gridcolor": "white",
            "gridwidth": 2,
            "linecolor": "white",
            "showbackground": true,
            "ticks": "",
            "zerolinecolor": "white"
           },
           "yaxis": {
            "backgroundcolor": "#E5ECF6",
            "gridcolor": "white",
            "gridwidth": 2,
            "linecolor": "white",
            "showbackground": true,
            "ticks": "",
            "zerolinecolor": "white"
           },
           "zaxis": {
            "backgroundcolor": "#E5ECF6",
            "gridcolor": "white",
            "gridwidth": 2,
            "linecolor": "white",
            "showbackground": true,
            "ticks": "",
            "zerolinecolor": "white"
           }
          },
          "shapedefaults": {
           "line": {
            "color": "#2a3f5f"
           }
          },
          "ternary": {
           "aaxis": {
            "gridcolor": "white",
            "linecolor": "white",
            "ticks": ""
           },
           "baxis": {
            "gridcolor": "white",
            "linecolor": "white",
            "ticks": ""
           },
           "bgcolor": "#E5ECF6",
           "caxis": {
            "gridcolor": "white",
            "linecolor": "white",
            "ticks": ""
           }
          },
          "title": {
           "x": 0.05
          },
          "xaxis": {
           "automargin": true,
           "gridcolor": "white",
           "linecolor": "white",
           "ticks": "",
           "title": {
            "standoff": 15
           },
           "zerolinecolor": "white",
           "zerolinewidth": 2
          },
          "yaxis": {
           "automargin": true,
           "gridcolor": "white",
           "linecolor": "white",
           "ticks": "",
           "title": {
            "standoff": 15
           },
           "zerolinecolor": "white",
           "zerolinewidth": 2
          }
         }
        },
        "title": {
         "text": "Harvard University",
         "x": 0.5
        }
       }
      }
     },
     "metadata": {},
     "output_type": "display_data"
    }
   ],
   "source": [
    "categories = ['Academic Reputation','Employer Reputation','Faculty Student Ratio','Citations per faculty','International Faculty','International Student','International Research Network','Employement Outcome']\n",
    "values = [100,100,99.4,100,76.9,66.9,100,100 ]\n",
    "   \n",
    "    \n",
    "fig = go.Figure()\n",
    "\n",
    "fig.add_trace(go.Scatterpolar(\n",
    "      r=values,\n",
    "      theta=categories,\n",
    "      fill='toself',\n",
    "      name='Product A'\n",
    "))    \n",
    "\n",
    "fig.update_layout(\n",
    "  polar=dict(\n",
    "    radialaxis=dict(\n",
    "      visible=True\n",
    "    )),\n",
    "    title=go.layout.Title(text='Harvard University',x=0.5),\n",
    "  showlegend=False\n",
    ")\n",
    "\n",
    "fig.show()  "
   ]
  },
  {
   "cell_type": "code",
   "execution_count": 45,
   "metadata": {},
   "outputs": [
    {
     "data": {
      "application/vnd.plotly.v1+json": {
       "config": {
        "plotlyServerURL": "https://plot.ly"
       },
       "data": [
        {
         "colorscale": [
          [
           0,
           "#636efa"
          ],
          [
           1,
           "#636efa"
          ]
         ],
         "geo": "geo",
         "hovertemplate": "location=%{location}<extra></extra>",
         "locationmode": "country names",
         "locations": [
          "United States",
          "United Kingdom",
          "United States",
          "United Kingdom",
          "United States",
          "United States",
          "United Kingdom",
          "United Kingdom",
          "Switzerland",
          "United States",
          "Singapore",
          "China (Mainland)",
          "United States",
          "China (Mainland)",
          "United Kingdom",
          "Switzerland",
          "United States",
          "United States",
          "Singapore",
          "United States",
          "Hong Kong SAR",
          "United States",
          "Japan",
          "United States",
          "United States",
          "France",
          "United States",
          "United Kingdom",
          "South Korea",
          "Australia",
          "Canada",
          "United States",
          "Australia",
          "China (Mainland)",
          "Canada",
          "Japan",
          "United Kingdom",
          "Hong Kong SAR",
          "United States",
          "Hong Kong SAR",
          "Australia",
          "South Korea",
          "China (Mainland)",
          "United States",
          "Australia",
          "China (Mainland)",
          "Canada",
          "France",
          "Germany",
          "United States",
          "Australia",
          "United States",
          "United States",
          "Hong Kong SAR",
          "Japan",
          "United Kingdom",
          "Australia",
          "Netherlands",
          "Germany",
          "France",
          "Netherlands",
          "United Kingdom",
          "United States",
          "United Kingdom",
          "Germany",
          "Hong Kong SAR",
          "Argentina",
          "Japan",
          "France",
          "Malaysia",
          "South Korea",
          "United States",
          "South Korea",
          "South Korea",
          "Russia",
          "Belgium",
          "Taiwan",
          "United Kingdom",
          "Japan",
          "United States",
          "United Kingdom",
          "Denmark",
          "United States",
          "Switzerland",
          "United States",
          "United Kingdom",
          "New Zealand",
          "United States",
          "Sweden",
          "Australia",
          "United Kingdom",
          "United Kingdom",
          "United States",
          "China (Mainland)",
          "Sweden",
          "United Kingdom",
          "United Kingdom",
          "Ireland",
          "South Korea",
          "United States",
          "Norway",
          "United States",
          "United States",
          "Denmark",
          "Mexico",
          "Saudi Arabia",
          "Finland",
          "United States",
          "Australia",
          "Canada",
          "France",
          "Japan",
          "Netherlands",
          "United Kingdom",
          "Brazil",
          "Finland",
          "Canada",
          "Germany",
          "United States",
          "Switzerland",
          "Chile",
          "United Kingdom",
          "Malaysia",
          "Netherlands",
          "Sweden",
          "United Kingdom",
          "Switzerland",
          "Sweden",
          "United States",
          "Malaysia",
          "Germany",
          "Netherlands",
          "China (Mainland)",
          "United States",
          "Japan",
          "Switzerland",
          "Australia",
          "Netherlands",
          "Italy",
          "United States",
          "Japan",
          "Germany",
          "Belgium",
          "Malaysia",
          "Netherlands",
          "United Kingdom",
          "Germany",
          "United States",
          "United States",
          "Kazakhstan",
          "Austria",
          "Canada",
          "Sweden",
          "Canada",
          "United States",
          "India",
          "South Korea",
          "Germany",
          "United States",
          "Saudi Arabia",
          "Denmark",
          "United Kingdom",
          "United Kingdom",
          "United States",
          "United States",
          "United Kingdom",
          "Italy",
          "Chile",
          "Germany",
          "Mexico",
          "Italy",
          "India",
          "Canada",
          "France",
          "India",
          "United States",
          "Taiwan",
          "Spain",
          "Austria",
          "United Kingdom",
          "United Arab Emirates",
          "Ireland",
          "United States",
          "Spain",
          "Sweden",
          "United States",
          "Australia",
          "United States",
          "Germany",
          "Australia",
          "United Kingdom",
          "Australia",
          "Australia",
          "China (Mainland)",
          "Australia",
          "Belgium",
          "Japan",
          "South Korea",
          "United States",
          "Germany",
          "Germany",
          "Taiwan",
          "Malaysia",
          "Switzerland",
          "United States",
          "Japan",
          "Norway",
          "Netherlands",
          "Qatar",
          "Brazil",
          "Belgium",
          "China (Mainland)",
          "Netherlands",
          "Netherlands",
          "Spain",
          "Germany",
          "China (Mainland)",
          "New Zealand",
          "United States",
          "Colombia",
          "United Kingdom",
          "Australia",
          "Israel",
          "Thailand",
          "Taiwan",
          "Spain",
          "China (Mainland)",
          "Germany",
          "United Kingdom",
          "Russia",
          "Indonesia",
          "Netherlands",
          "United Kingdom",
          "Spain",
          "Indonesia",
          "United States",
          "Saudi Arabia",
          "South Africa",
          "Canada",
          "United Kingdom",
          "Switzerland",
          "Canada",
          "Colombia",
          "Italy",
          "United States",
          "Canada",
          "United States",
          "Indonesia",
          "France",
          "India",
          "Belgium",
          "Lebanon",
          "United States",
          "Spain",
          "United States",
          "United Kingdom",
          "Thailand",
          "Brunei",
          "France",
          "Russia",
          "Israel",
          "China (Mainland)",
          "United States",
          "India",
          "Russia",
          "Australia",
          "Russia",
          "United States",
          "China (Mainland)",
          "India",
          "South Korea",
          "Ireland",
          "Russia",
          "Portugal",
          "Germany",
          "New Zealand",
          "Kazakhstan",
          "Netherlands",
          "United Kingdom",
          "Belgium",
          "United States",
          "United Kingdom",
          "Hong Kong SAR",
          "Austria",
          "Malaysia",
          "Malaysia",
          "New Zealand",
          "Poland",
          "Belarus",
          "Czech Republic",
          "South Korea",
          "Finland",
          "New Zealand",
          "Poland",
          "Australia",
          "Russia",
          "Australia",
          "United Arab Emirates",
          "United States",
          "Estonia",
          "Australia",
          "France",
          "China (Mainland)",
          "Ireland",
          "Macau SAR",
          "United Kingdom",
          "China (Mainland)",
          "China (Mainland)",
          "Canada",
          "Russia",
          "Russia",
          "Austria",
          "United States",
          "United States",
          "Japan",
          "Australia",
          "France",
          "United States",
          "United States",
          "Sweden",
          "Spain",
          "Russia",
          "Argentina",
          "Italy",
          "Italy",
          "United Kingdom",
          "Taiwan",
          "Germany",
          "Canada",
          "Denmark",
          "New Zealand",
          "Taiwan",
          "Brazil",
          "Pakistan",
          "Germany",
          "Portugal",
          "Russia",
          "Japan",
          "United States",
          "Germany",
          "Brunei",
          "United Kingdom",
          "United Kingdom",
          "Spain",
          "Russia",
          "South Korea",
          "Spain",
          "Finland",
          "Denmark",
          "Austria",
          "United States",
          "Norway",
          "Germany",
          "United Kingdom",
          "China (Mainland)",
          "United Kingdom",
          "Germany",
          "Czech Republic",
          "Russia",
          "Canada",
          "Malaysia",
          "United States",
          "Japan",
          "Peru",
          "Pakistan",
          "Australia",
          "United States",
          "New Zealand",
          "Indonesia",
          "United Arab Emirates",
          "India",
          "Sweden",
          "Portugal",
          "United States",
          "United States",
          "United Kingdom",
          "Germany",
          "Czech Republic",
          "China (Mainland)",
          "Iran, Islamic Republic of",
          "United States",
          "Russia",
          "Colombia",
          "India",
          "Oman",
          "Taiwan",
          "Germany",
          "Finland",
          "United States",
          "Pakistan",
          "Argentina",
          "South Korea",
          "Japan",
          "Finland",
          "United States",
          "India",
          "China (Mainland)",
          "Russia",
          "Netherlands",
          "Spain",
          "Lithuania",
          "Mexico",
          "United Kingdom",
          "Italy",
          "Kazakhstan",
          "China (Mainland)",
          "China (Mainland)",
          "United States",
          "Israel",
          "South Korea",
          "Germany",
          "United Kingdom",
          "South Africa",
          "Philippines",
          "Finland",
          "Germany",
          "United States",
          "Egypt",
          "Italy",
          "Germany",
          "Germany",
          "Greece",
          "China (Mainland)",
          "China (Mainland)",
          "Australia",
          "United Kingdom",
          "United States",
          "Taiwan",
          "United States",
          "China (Mainland)",
          "South Africa",
          "Argentina",
          "Canada",
          "Russia",
          "France",
          "Taiwan",
          "Italy",
          "United Kingdom",
          "Portugal",
          "United States",
          "Brazil",
          "Germany",
          "Iran, Islamic Republic of",
          "Kazakhstan",
          "China (Mainland)",
          "United States",
          "United Kingdom",
          "United States",
          "Indonesia",
          "Belgium",
          "Saudi Arabia",
          "Uruguay",
          "United States",
          "South Africa",
          "Norway",
          "Canada",
          "France",
          "South Korea",
          "Italy",
          "Italy",
          "Australia",
          "United States",
          "China (Mainland)",
          "Argentina",
          "United Kingdom",
          "Chile",
          "Russia",
          "Cuba",
          "United States",
          "United States",
          "Ireland",
          "United States",
          "Cyprus",
          "Canada",
          "Taiwan",
          "Italy",
          "Saudi Arabia",
          "Turkey",
          "Germany",
          "Brazil",
          "Australia",
          "South Korea",
          "United States",
          "Kazakhstan",
          "Malaysia",
          "New Zealand",
          "Austria",
          "South Korea",
          "Spain",
          "France",
          "Israel",
          "Japan",
          "Germany",
          "South Korea",
          "Uruguay",
          "Spain",
          "United States",
          "China (Mainland)",
          "China (Mainland)",
          "Italy",
          "Australia",
          "Israel",
          "United States",
          "South Korea",
          "Turkey",
          "United States",
          "United States",
          "France",
          "Portugal",
          "Switzerland",
          "United Kingdom",
          "Iran, Islamic Republic of",
          "Japan",
          "Kazakhstan",
          "United States",
          "United Kingdom",
          "Spain",
          "Costa Rica",
          "Italy",
          "Germany",
          "Australia",
          "United States",
          "Russia",
          "China (Mainland)",
          "Germany",
          "Poland",
          "United States",
          "Belgium",
          "France",
          "India",
          "United States",
          "Poland",
          "Japan",
          "South Korea",
          "Iran, Islamic Republic of",
          "Turkey",
          "Lebanon",
          "Cuba",
          "Lebanon",
          "Ireland",
          "United Arab Emirates",
          "China (Mainland)",
          "China (Mainland)",
          "India",
          "Russia",
          "Argentina",
          "Mexico",
          "Germany",
          "Germany",
          "India",
          "Ukraine",
          "India",
          "Egypt",
          "Canada",
          "South Korea",
          "Czech Republic",
          "Russia",
          "China (Mainland)",
          "South Korea",
          "Spain",
          "Finland",
          "Hungary",
          "Kazakhstan",
          "Bahrain",
          "United Kingdom",
          "Turkey",
          "United States",
          "China (Mainland)",
          "Australia",
          "Japan",
          "Singapore",
          "Bulgaria",
          "Spain",
          "Italy",
          "China (Mainland)",
          "South Korea",
          "South Korea",
          "Lebanon",
          "Japan",
          "Spain",
          "Switzerland",
          "Canada",
          "India",
          "Macau SAR",
          "Taiwan",
          "China (Mainland)",
          "Germany",
          "France",
          "United States",
          "United States",
          "China (Mainland)",
          "China (Mainland)",
          "United States",
          "Italy",
          "South Korea",
          "Greece",
          "Canada",
          "Jordan",
          "Portugal",
          "South Africa",
          "Finland",
          "United Arab Emirates",
          "United Kingdom",
          "Canada",
          "Thailand",
          "China (Mainland)",
          "Australia",
          "Japan",
          "Russia",
          "Turkey",
          "Georgia",
          "India",
          "Japan",
          "United Kingdom",
          "Pakistan",
          "Lebanon",
          "Lebanon",
          "Germany",
          "Hong Kong SAR",
          "Malaysia",
          "China (Mainland)",
          "Greece",
          "Taiwan",
          "Japan",
          "United States",
          "Japan",
          "Brazil",
          "South Korea",
          "China (Mainland)",
          "Russia",
          "United States",
          "Malaysia",
          "Germany",
          "United States",
          "United States",
          "United Kingdom",
          "Mexico",
          "Chile",
          "Colombia",
          "Spain",
          "Germany",
          "Germany",
          "Germany",
          "France",
          "Slovenia",
          "Italy",
          "Spain",
          "United Arab Emirates",
          "United States",
          "France",
          "United States",
          "United States",
          "United Kingdom",
          "United Arab Emirates",
          "Bahrain",
          "United Arab Emirates",
          "Saudi Arabia",
          "United Arab Emirates",
          "Greece",
          "Philippines",
          "Australia",
          "China (Mainland)",
          "China (Mainland)",
          "Slovakia",
          "United Kingdom",
          "United States",
          "Japan",
          "India",
          "Malaysia",
          "Kazakhstan",
          "Austria",
          "South Korea",
          "Japan",
          "Taiwan",
          "Ukraine",
          "United States",
          "United Kingdom",
          "India",
          "Czech Republic",
          "Russia",
          "Saudi Arabia",
          "Kazakhstan",
          "Russia",
          "China (Mainland)",
          "Ukraine",
          "Thailand",
          "Colombia",
          "Colombia",
          "Colombia",
          "Argentina",
          "Peru",
          "Spain",
          "Malaysia",
          "United States",
          "Hungary",
          "Italy",
          "United Kingdom",
          "United Kingdom",
          "Canada",
          "United States",
          "United Kingdom",
          "Australia",
          "United States",
          "Kuwait",
          "Turkey",
          "Czech Republic",
          "Australia",
          "United States",
          "Hungary",
          "Italy",
          "Indonesia",
          "India",
          "China (Mainland)",
          "Saudi Arabia",
          "Japan",
          "Kazakhstan",
          "Saudi Arabia",
          "Ukraine",
          "Slovakia",
          "Saudi Arabia",
          "Japan",
          "Australia",
          "United States",
          "Estonia",
          "Japan",
          "Japan",
          "Japan",
          "Uruguay",
          "Venezuela",
          "Colombia",
          "Mexico",
          "Ecuador",
          "Brazil",
          "Malaysia",
          "United Kingdom",
          "United States",
          "Israel",
          "United States",
          "Belgium",
          "Canada",
          "United States",
          "United States",
          "United States",
          "Hungary",
          "United Kingdom",
          "Czech Republic",
          "United States",
          "Spain",
          "Italy",
          "United States",
          "United Kingdom",
          "Australia",
          "Lithuania",
          "United States",
          "United Arab Emirates",
          "China (Mainland)",
          "Belarus",
          "South Korea",
          "South Korea",
          "United States",
          "France",
          "South Korea",
          "United States",
          "United States",
          "Mexico",
          "Mexico",
          "Argentina",
          "United Kingdom",
          "China (Mainland)",
          "Russia",
          "India",
          "Canada",
          "United States",
          "United Kingdom",
          "Japan",
          "Austria",
          "Germany",
          "Chile",
          "Latvia",
          "Russia",
          "Iran, Islamic Republic of",
          "United States",
          "United States",
          "Chile",
          "Mexico",
          "Venezuela",
          "Uruguay",
          "Argentina",
          "Colombia",
          "Spain",
          "Brazil",
          "Indonesia",
          "Spain",
          "France",
          "France",
          "Canada",
          "Tunisia",
          "Germany",
          "United States",
          "United States",
          "India",
          "Italy",
          "Canada",
          "Kazakhstan",
          "Poland",
          "Poland",
          "Egypt",
          "Australia",
          "Bangladesh",
          "China (Mainland)",
          "China (Mainland)",
          "China (Mainland)",
          "China (Mainland)",
          "Lebanon",
          "United Kingdom",
          "Hungary",
          "Italy",
          "Italy",
          "India",
          "Taiwan",
          "Australia",
          "China (Mainland)",
          "United States",
          "United States",
          "United States",
          "Poland",
          "Czech Republic",
          "Philippines",
          "United Kingdom",
          "Indonesia",
          "China (Mainland)",
          "Vietnam",
          "United Kingdom",
          "Poland",
          "United States",
          "Jordan",
          "Kuwait",
          "Turkey",
          "China (Mainland)",
          "India",
          "United States",
          "Dominican Republic",
          "Japan",
          "Saudi Arabia",
          "Turkey",
          "Mexico",
          "India",
          "Jordan",
          "United States",
          "Thailand",
          "Lithuania",
          "Kazakhstan",
          "Thailand",
          "Saudi Arabia",
          "Thailand",
          "Kyrgyzstan",
          "United Kingdom",
          "Poland",
          "United Kingdom",
          "United Kingdom",
          "United States",
          "United States",
          "Ukraine",
          "United Kingdom",
          "Ireland",
          "Czech Republic",
          "China (Mainland)",
          "China (Mainland)",
          "Taiwan",
          "India",
          "Poland",
          "Kazakhstan",
          "Saudi Arabia",
          "China (Mainland)",
          "China (Mainland)",
          "Lebanon",
          "United Kingdom",
          "Russia",
          "United States",
          "Russia",
          "India",
          "Ecuador",
          "Brazil",
          "Poland",
          "Thailand",
          "Jordan",
          "Saudi Arabia",
          "United Kingdom",
          "South Africa",
          "Latvia",
          "Japan",
          "United Kingdom",
          "Russia",
          "Armenia",
          "United States",
          "Canada",
          "Russia",
          "Japan",
          "India",
          "Slovakia",
          "Japan",
          "Russia",
          "United States",
          "Ukraine",
          "Hungary",
          "Hungary",
          "Slovakia",
          "Czech Republic",
          "Ireland",
          "Costa Rica",
          "Japan",
          "Germany",
          "Russia",
          "Mexico",
          "Mexico",
          "Mexico",
          "Mexico",
          "Mexico",
          "Venezuela",
          "Chile",
          "Cuba",
          "Colombia",
          "Chile",
          "Colombia",
          "Argentina",
          "Argentina",
          "Argentina",
          "Peru",
          "Venezuela",
          "Argentina",
          "Argentina",
          "Portugal",
          "Brazil",
          "Brazil",
          "Brazil",
          "Brazil",
          "Italy",
          "Italy",
          "Italy",
          "Italy",
          "Indonesia",
          "Germany",
          "France",
          "France",
          "France",
          "Malaysia",
          "Malaysia",
          "Malaysia",
          "Malaysia",
          "United States",
          "Spain",
          "Iraq",
          "Bahrain",
          "Italy",
          "Italy",
          "United Kingdom",
          "India",
          "United States",
          "United Kingdom",
          "Bangladesh",
          "United Arab Emirates",
          "United Kingdom",
          "Pakistan",
          "Poland",
          "United Kingdom",
          "United States",
          "United Kingdom",
          "Germany",
          "Czech Republic",
          "United States",
          "South Africa",
          "United Kingdom",
          "Poland",
          "United States",
          "Malta",
          "Slovenia",
          "United States",
          "Italy",
          "United States",
          "Italy",
          "Spain",
          "Australia",
          "United States",
          "Italy",
          "Greece",
          "Pakistan",
          "United Kingdom",
          "Philippines",
          "South Korea",
          "Pakistan",
          "United Kingdom",
          "United States",
          "Russia",
          "Poland",
          "United States",
          "Croatia",
          "Slovakia",
          "Italy",
          "Vietnam",
          "Vietnam",
          "Lithuania",
          "United States",
          "Poland",
          "China (Mainland)",
          "Japan",
          "Armenia",
          "South Korea",
          "Japan",
          "China (Mainland)",
          "Palestinian Territory, Occupied",
          "Egypt",
          "India",
          "India",
          "India",
          "Turkey",
          "Palestinian Territory, Occupied",
          "Taiwan",
          "Egypt",
          "Greece",
          "United States",
          "Azerbaijan",
          "Romania",
          "Azerbaijan",
          "India",
          "United States",
          "Belarus",
          "Mexico",
          "Germany",
          "Indonesia",
          "United States",
          "India",
          "United Kingdom",
          "Bangladesh",
          "United States",
          "Canada",
          "United Kingdom",
          "Spain",
          "South Korea",
          "Pakistan",
          "Hungary",
          "United States",
          "Japan",
          "Ecuador",
          "Ecuador",
          "Russia",
          "United States",
          "Egypt",
          "Turkey",
          "United States",
          "United Kingdom",
          "United Kingdom",
          "China (Mainland)",
          "Saudi Arabia",
          "Turkey",
          "Ukraine",
          "South Korea",
          "China (Mainland)",
          "South Korea",
          "Kazakhstan",
          "Russia",
          "United States",
          "Ukraine",
          "South Korea",
          "Kuwait",
          "Japan",
          "Japan",
          "United Kingdom",
          "United States",
          "Russia",
          "United States",
          "Malaysia",
          "Iraq",
          "Jordan",
          "Lithuania",
          "Japan",
          "China (Mainland)",
          "Taiwan",
          "Ukraine",
          "Bangladesh",
          "South Africa",
          "China (Mainland)",
          "Ukraine",
          "United States",
          "France",
          "United States",
          "Japan",
          "United States",
          "India",
          "United States",
          "South Korea",
          "Iran, Islamic Republic of",
          "China (Mainland)",
          "United Kingdom",
          "Russia",
          "India",
          "Poland",
          "South Korea",
          "Saudi Arabia",
          "Estonia",
          "Poland",
          "Indonesia",
          "United States",
          "India",
          "Russia",
          "Croatia",
          "Russia",
          "United States",
          "Pakistan",
          "United Kingdom",
          "Japan",
          "Czech Republic",
          "Vietnam",
          "Chile",
          "Chile",
          "Mexico",
          "Mexico",
          "Spain",
          "Colombia",
          "Peru",
          "Mexico",
          "Spain",
          "Chile",
          "Spain",
          "Chile",
          "Colombia",
          "Peru",
          "Colombia",
          "Costa Rica",
          "Peru",
          "Argentina",
          "Paraguay",
          "Argentina",
          "Costa Rica",
          "Peru",
          "Spain",
          "Chile",
          "Panama",
          "Spain",
          "Spain",
          "Brazil",
          "Brazil",
          "Brazil",
          "Brazil",
          "Italy",
          "Italy",
          "Indonesia",
          "Indonesia",
          "Germany",
          "France",
          "France",
          "France",
          "France",
          "Malaysia",
          "Malaysia",
          "Malaysia",
          "Malaysia",
          "Malaysia",
          "Pakistan",
          "United States",
          "Serbia",
          "Poland",
          "Romania",
          "Italy",
          "United Kingdom",
          "United States",
          "Iraq",
          "Latvia",
          "Hungary",
          "United States",
          "United States",
          "United States",
          "India",
          "Kenya",
          "Italy",
          "United States",
          "Czech Republic",
          "Italy",
          "Hungary",
          "Czech Republic",
          "Sri Lanka",
          "Slovenia",
          "Canada",
          "United States",
          "Croatia",
          "Italy",
          "United States",
          "United States",
          "United States",
          "United States",
          "Australia",
          "South Africa",
          "United States",
          "Poland",
          "United States",
          "United Kingdom",
          "United States",
          "Canada",
          "India",
          "Russia",
          "Poland",
          "United States",
          "United States",
          "China (Mainland)",
          "Turkey",
          "Russia",
          "Turkey",
          "Egypt",
          "Jordan",
          "Romania",
          "Turkey",
          "Japan",
          "Pakistan",
          "Palestinian Territory, Occupied",
          "Egypt",
          "United States",
          "United States",
          "Argentina",
          "United States",
          "China (Mainland)",
          "Taiwan",
          "United States",
          "Turkey",
          "Turkey",
          "Taiwan",
          "United States",
          "Taiwan",
          "Colombia",
          "Turkey",
          "Egypt",
          "Vietnam",
          "Egypt",
          "China (Mainland)",
          "South Korea",
          "United States",
          "United States",
          "United States",
          "Pakistan",
          "Russia",
          "Turkey",
          "Turkey",
          "India",
          "Japan",
          "Thailand",
          "Japan",
          "Romania",
          "Uganda",
          "Egypt",
          "Turkey",
          "Japan",
          "United States",
          "Russia",
          "Russia",
          "Russia",
          "Taiwan",
          "Russia",
          "Taiwan",
          "Ukraine",
          "United States",
          "United States",
          "Hungary",
          "India",
          "India",
          "Dominican Republic",
          "Brazil",
          "Brazil",
          "Brazil",
          "United States",
          "South Korea",
          "Japan",
          "Russia",
          "Russia",
          "United States",
          "Kazakhstan",
          "United States",
          "China (Mainland)",
          "China (Mainland)",
          "Japan",
          "Slovakia",
          "Taiwan",
          "South Korea",
          "China (Mainland)",
          "India",
          "Romania",
          "Egypt",
          "Thailand",
          "Taiwan",
          "Egypt",
          "Romania",
          "Romania",
          "Jordan",
          "Australia",
          "United States",
          "Kazakhstan",
          "Romania",
          "Taiwan",
          "Mexico",
          "Chile",
          "Mexico",
          "Mexico",
          "Mexico",
          "Mexico",
          "Chile",
          "Colombia",
          "Chile",
          "Chile",
          "Chile",
          "Ecuador",
          "Colombia",
          "Venezuela",
          "Colombia",
          "Ecuador",
          "Mexico",
          "Chile",
          "Colombia",
          "Chile",
          "Ecuador",
          "Ecuador",
          "Colombia",
          "Panama",
          "Peru",
          "Puerto Rico",
          "Guatemala",
          "Colombia",
          "Mexico",
          "Chile",
          "Colombia",
          "Chile",
          "Colombia",
          "Argentina",
          "Mexico",
          "Venezuela",
          "Mexico",
          "Bolivia",
          "Venezuela",
          "Argentina",
          "Argentina",
          "Argentina",
          "Argentina",
          "Argentina",
          "Argentina",
          "Argentina",
          "Mexico",
          "Peru",
          "Ecuador",
          "Cuba",
          "Colombia",
          "Mexico",
          "Brazil",
          "Brazil",
          "Brazil",
          "Brazil",
          "Brazil",
          "Brazil",
          "Brazil",
          "Brazil",
          "Brazil",
          "Brazil",
          "Brazil",
          "Brazil",
          "Brazil",
          "Brazil",
          "Italy",
          "Italy",
          "Indonesia",
          "Indonesia",
          "Indonesia",
          "Romania",
          "France",
          "Tunisia",
          "Tunisia",
          "France",
          "France",
          "Iraq",
          "Iraq",
          "United States",
          "Sri Lanka",
          "Ghana",
          "China (Mainland)",
          "Pakistan",
          "Sudan",
          "Serbia",
          "United States",
          "Serbia",
          "United States",
          "United States",
          "Canada",
          "Serbia",
          "Poland",
          "Bosnia and Herzegovina",
          "Poland",
          "United States",
          "Croatia",
          "United States",
          "Czech Republic",
          "Romania",
          "Romania",
          "Czech Republic",
          "United States",
          "Jordan",
          "South Korea",
          "Taiwan",
          "Egypt",
          "Turkey",
          "United States",
          "Turkey",
          "Syrian Arab Republic",
          "Turkey",
          "Brazil",
          "Turkey",
          "Sudan",
          "Mexico",
          "Bolivia",
          "Ecuador",
          "Chile",
          "Chile",
          "Bolivia",
          "Mexico",
          "Honduras",
          "Colombia",
          "Morocco",
          "Romania",
          "Romania"
         ],
         "name": "",
         "showlegend": true,
         "showscale": false,
         "type": "choropleth",
         "z": [
          1,
          1,
          1,
          1,
          1,
          1,
          1,
          1,
          1,
          1,
          1,
          1,
          1,
          1,
          1,
          1,
          1,
          1,
          1,
          1,
          1,
          1,
          1,
          1,
          1,
          1,
          1,
          1,
          1,
          1,
          1,
          1,
          1,
          1,
          1,
          1,
          1,
          1,
          1,
          1,
          1,
          1,
          1,
          1,
          1,
          1,
          1,
          1,
          1,
          1,
          1,
          1,
          1,
          1,
          1,
          1,
          1,
          1,
          1,
          1,
          1,
          1,
          1,
          1,
          1,
          1,
          1,
          1,
          1,
          1,
          1,
          1,
          1,
          1,
          1,
          1,
          1,
          1,
          1,
          1,
          1,
          1,
          1,
          1,
          1,
          1,
          1,
          1,
          1,
          1,
          1,
          1,
          1,
          1,
          1,
          1,
          1,
          1,
          1,
          1,
          1,
          1,
          1,
          1,
          1,
          1,
          1,
          1,
          1,
          1,
          1,
          1,
          1,
          1,
          1,
          1,
          1,
          1,
          1,
          1,
          1,
          1,
          1,
          1,
          1,
          1,
          1,
          1,
          1,
          1,
          1,
          1,
          1,
          1,
          1,
          1,
          1,
          1,
          1,
          1,
          1,
          1,
          1,
          1,
          1,
          1,
          1,
          1,
          1,
          1,
          1,
          1,
          1,
          1,
          1,
          1,
          1,
          1,
          1,
          1,
          1,
          1,
          1,
          1,
          1,
          1,
          1,
          1,
          1,
          1,
          1,
          1,
          1,
          1,
          1,
          1,
          1,
          1,
          1,
          1,
          1,
          1,
          1,
          1,
          1,
          1,
          1,
          1,
          1,
          1,
          1,
          1,
          1,
          1,
          1,
          1,
          1,
          1,
          1,
          1,
          1,
          1,
          1,
          1,
          1,
          1,
          1,
          1,
          1,
          1,
          1,
          1,
          1,
          1,
          1,
          1,
          1,
          1,
          1,
          1,
          1,
          1,
          1,
          1,
          1,
          1,
          1,
          1,
          1,
          1,
          1,
          1,
          1,
          1,
          1,
          1,
          1,
          1,
          1,
          1,
          1,
          1,
          1,
          1,
          1,
          1,
          1,
          1,
          1,
          1,
          1,
          1,
          1,
          1,
          1,
          1,
          1,
          1,
          1,
          1,
          1,
          1,
          1,
          1,
          1,
          1,
          1,
          1,
          1,
          1,
          1,
          1,
          1,
          1,
          1,
          1,
          1,
          1,
          1,
          1,
          1,
          1,
          1,
          1,
          1,
          1,
          1,
          1,
          1,
          1,
          1,
          1,
          1,
          1,
          1,
          1,
          1,
          1,
          1,
          1,
          1,
          1,
          1,
          1,
          1,
          1,
          1,
          1,
          1,
          1,
          1,
          1,
          1,
          1,
          1,
          1,
          1,
          1,
          1,
          1,
          1,
          1,
          1,
          1,
          1,
          1,
          1,
          1,
          1,
          1,
          1,
          1,
          1,
          1,
          1,
          1,
          1,
          1,
          1,
          1,
          1,
          1,
          1,
          1,
          1,
          1,
          1,
          1,
          1,
          1,
          1,
          1,
          1,
          1,
          1,
          1,
          1,
          1,
          1,
          1,
          1,
          1,
          1,
          1,
          1,
          1,
          1,
          1,
          1,
          1,
          1,
          1,
          1,
          1,
          1,
          1,
          1,
          1,
          1,
          1,
          1,
          1,
          1,
          1,
          1,
          1,
          1,
          1,
          1,
          1,
          1,
          1,
          1,
          1,
          1,
          1,
          1,
          1,
          1,
          1,
          1,
          1,
          1,
          1,
          1,
          1,
          1,
          1,
          1,
          1,
          1,
          1,
          1,
          1,
          1,
          1,
          1,
          1,
          1,
          1,
          1,
          1,
          1,
          1,
          1,
          1,
          1,
          1,
          1,
          1,
          1,
          1,
          1,
          1,
          1,
          1,
          1,
          1,
          1,
          1,
          1,
          1,
          1,
          1,
          1,
          1,
          1,
          1,
          1,
          1,
          1,
          1,
          1,
          1,
          1,
          1,
          1,
          1,
          1,
          1,
          1,
          1,
          1,
          1,
          1,
          1,
          1,
          1,
          1,
          1,
          1,
          1,
          1,
          1,
          1,
          1,
          1,
          1,
          1,
          1,
          1,
          1,
          1,
          1,
          1,
          1,
          1,
          1,
          1,
          1,
          1,
          1,
          1,
          1,
          1,
          1,
          1,
          1,
          1,
          1,
          1,
          1,
          1,
          1,
          1,
          1,
          1,
          1,
          1,
          1,
          1,
          1,
          1,
          1,
          1,
          1,
          1,
          1,
          1,
          1,
          1,
          1,
          1,
          1,
          1,
          1,
          1,
          1,
          1,
          1,
          1,
          1,
          1,
          1,
          1,
          1,
          1,
          1,
          1,
          1,
          1,
          1,
          1,
          1,
          1,
          1,
          1,
          1,
          1,
          1,
          1,
          1,
          1,
          1,
          1,
          1,
          1,
          1,
          1,
          1,
          1,
          1,
          1,
          1,
          1,
          1,
          1,
          1,
          1,
          1,
          1,
          1,
          1,
          1,
          1,
          1,
          1,
          1,
          1,
          1,
          1,
          1,
          1,
          1,
          1,
          1,
          1,
          1,
          1,
          1,
          1,
          1,
          1,
          1,
          1,
          1,
          1,
          1,
          1,
          1,
          1,
          1,
          1,
          1,
          1,
          1,
          1,
          1,
          1,
          1,
          1,
          1,
          1,
          1,
          1,
          1,
          1,
          1,
          1,
          1,
          1,
          1,
          1,
          1,
          1,
          1,
          1,
          1,
          1,
          1,
          1,
          1,
          1,
          1,
          1,
          1,
          1,
          1,
          1,
          1,
          1,
          1,
          1,
          1,
          1,
          1,
          1,
          1,
          1,
          1,
          1,
          1,
          1,
          1,
          1,
          1,
          1,
          1,
          1,
          1,
          1,
          1,
          1,
          1,
          1,
          1,
          1,
          1,
          1,
          1,
          1,
          1,
          1,
          1,
          1,
          1,
          1,
          1,
          1,
          1,
          1,
          1,
          1,
          1,
          1,
          1,
          1,
          1,
          1,
          1,
          1,
          1,
          1,
          1,
          1,
          1,
          1,
          1,
          1,
          1,
          1,
          1,
          1,
          1,
          1,
          1,
          1,
          1,
          1,
          1,
          1,
          1,
          1,
          1,
          1,
          1,
          1,
          1,
          1,
          1,
          1,
          1,
          1,
          1,
          1,
          1,
          1,
          1,
          1,
          1,
          1,
          1,
          1,
          1,
          1,
          1,
          1,
          1,
          1,
          1,
          1,
          1,
          1,
          1,
          1,
          1,
          1,
          1,
          1,
          1,
          1,
          1,
          1,
          1,
          1,
          1,
          1,
          1,
          1,
          1,
          1,
          1,
          1,
          1,
          1,
          1,
          1,
          1,
          1,
          1,
          1,
          1,
          1,
          1,
          1,
          1,
          1,
          1,
          1,
          1,
          1,
          1,
          1,
          1,
          1,
          1,
          1,
          1,
          1,
          1,
          1,
          1,
          1,
          1,
          1,
          1,
          1,
          1,
          1,
          1,
          1,
          1,
          1,
          1,
          1,
          1,
          1,
          1,
          1,
          1,
          1,
          1,
          1,
          1,
          1,
          1,
          1,
          1,
          1,
          1,
          1,
          1,
          1,
          1,
          1,
          1,
          1,
          1,
          1,
          1,
          1,
          1,
          1,
          1,
          1,
          1,
          1,
          1,
          1,
          1,
          1,
          1,
          1,
          1,
          1,
          1,
          1,
          1,
          1,
          1,
          1,
          1,
          1,
          1,
          1,
          1,
          1,
          1,
          1,
          1,
          1,
          1,
          1,
          1,
          1,
          1,
          1,
          1,
          1,
          1,
          1,
          1,
          1,
          1,
          1,
          1,
          1,
          1,
          1,
          1,
          1,
          1,
          1,
          1,
          1,
          1,
          1,
          1,
          1,
          1,
          1,
          1,
          1,
          1,
          1,
          1,
          1,
          1,
          1,
          1,
          1,
          1,
          1,
          1,
          1,
          1,
          1,
          1,
          1,
          1,
          1,
          1,
          1,
          1,
          1,
          1,
          1,
          1,
          1,
          1,
          1,
          1,
          1,
          1,
          1,
          1,
          1,
          1,
          1,
          1,
          1,
          1,
          1,
          1,
          1,
          1,
          1,
          1,
          1,
          1,
          1,
          1,
          1,
          1,
          1,
          1,
          1,
          1,
          1,
          1,
          1,
          1,
          1,
          1,
          1,
          1,
          1,
          1,
          1,
          1,
          1,
          1,
          1,
          1,
          1,
          1,
          1,
          1,
          1,
          1,
          1,
          1,
          1,
          1,
          1,
          1,
          1,
          1,
          1,
          1,
          1,
          1,
          1,
          1,
          1,
          1,
          1,
          1,
          1,
          1,
          1,
          1,
          1,
          1,
          1,
          1,
          1,
          1,
          1,
          1,
          1,
          1,
          1,
          1,
          1,
          1,
          1,
          1,
          1,
          1,
          1,
          1,
          1,
          1,
          1,
          1,
          1,
          1,
          1,
          1,
          1,
          1,
          1,
          1,
          1,
          1,
          1,
          1,
          1,
          1,
          1,
          1,
          1,
          1,
          1,
          1,
          1,
          1,
          1,
          1,
          1,
          1,
          1,
          1,
          1,
          1,
          1,
          1,
          1,
          1,
          1,
          1,
          1,
          1,
          1,
          1,
          1,
          1,
          1,
          1,
          1,
          1,
          1,
          1,
          1,
          1,
          1,
          1,
          1,
          1,
          1,
          1,
          1,
          1,
          1,
          1,
          1,
          1,
          1,
          1,
          1,
          1,
          1,
          1,
          1,
          1,
          1,
          1,
          1,
          1,
          1,
          1,
          1,
          1,
          1,
          1,
          1,
          1,
          1,
          1,
          1,
          1,
          1,
          1,
          1,
          1,
          1,
          1,
          1,
          1,
          1,
          1,
          1,
          1,
          1,
          1,
          1,
          1,
          1,
          1,
          1,
          1,
          1,
          1,
          1,
          1,
          1,
          1,
          1,
          1,
          1,
          1,
          1,
          1,
          1,
          1,
          1,
          1,
          1,
          1,
          1,
          1,
          1,
          1,
          1,
          1,
          1,
          1,
          1,
          1,
          1,
          1,
          1,
          1,
          1,
          1,
          1,
          1,
          1,
          1,
          1,
          1,
          1,
          1,
          1,
          1,
          1,
          1,
          1,
          1,
          1,
          1,
          1,
          1,
          1,
          1,
          1,
          1,
          1,
          1,
          1,
          1,
          1,
          1,
          1,
          1,
          1,
          1,
          1,
          1,
          1,
          1,
          1,
          1,
          1,
          1,
          1,
          1,
          1,
          1,
          1,
          1,
          1,
          1,
          1,
          1,
          1,
          1,
          1,
          1,
          1,
          1,
          1,
          1,
          1,
          1,
          1,
          1,
          1,
          1,
          1,
          1,
          1,
          1,
          1,
          1,
          1,
          1,
          1,
          1,
          1,
          1,
          1,
          1,
          1,
          1,
          1,
          1,
          1,
          1,
          1,
          1,
          1,
          1,
          1,
          1,
          1,
          1,
          1,
          1,
          1,
          1,
          1,
          1,
          1,
          1,
          1,
          1,
          1,
          1,
          1,
          1,
          1,
          1,
          1,
          1,
          1,
          1,
          1,
          1,
          1,
          1,
          1,
          1,
          1,
          1,
          1,
          1,
          1,
          1,
          1,
          1,
          1,
          1,
          1,
          1,
          1,
          1,
          1,
          1,
          1,
          1,
          1,
          1,
          1,
          1,
          1,
          1,
          1,
          1,
          1,
          1,
          1,
          1,
          1,
          1,
          1,
          1,
          1,
          1,
          1,
          1,
          1,
          1,
          1,
          1,
          1,
          1,
          1,
          1,
          1,
          1,
          1,
          1,
          1,
          1,
          1,
          1,
          1,
          1,
          1,
          1,
          1,
          1,
          1,
          1,
          1,
          1,
          1,
          1,
          1,
          1,
          1,
          1,
          1,
          1,
          1,
          1,
          1,
          1,
          1,
          1,
          1,
          1,
          1,
          1,
          1,
          1,
          1,
          1,
          1,
          1,
          1,
          1,
          1,
          1,
          1,
          1,
          1,
          1,
          1,
          1,
          1,
          1,
          1,
          1,
          1,
          1,
          1,
          1,
          1,
          1,
          1,
          1,
          1,
          1,
          1,
          1,
          1,
          1,
          1,
          1,
          1,
          1,
          1,
          1,
          1,
          1,
          1,
          1,
          1,
          1,
          1,
          1,
          1,
          1,
          1,
          1,
          1,
          1,
          1,
          1,
          1,
          1,
          1,
          1,
          1,
          1,
          1,
          1,
          1,
          1
         ]
        }
       ],
       "layout": {
        "geo": {
         "center": {},
         "domain": {
          "x": [
           0,
           1
          ],
          "y": [
           0,
           1
          ]
         },
         "scope": "world"
        },
        "legend": {
         "tracegroupgap": 0
        },
        "margin": {
         "b": 0,
         "l": 0,
         "r": 0,
         "t": 0
        },
        "template": {
         "data": {
          "bar": [
           {
            "error_x": {
             "color": "#2a3f5f"
            },
            "error_y": {
             "color": "#2a3f5f"
            },
            "marker": {
             "line": {
              "color": "#E5ECF6",
              "width": 0.5
             },
             "pattern": {
              "fillmode": "overlay",
              "size": 10,
              "solidity": 0.2
             }
            },
            "type": "bar"
           }
          ],
          "barpolar": [
           {
            "marker": {
             "line": {
              "color": "#E5ECF6",
              "width": 0.5
             },
             "pattern": {
              "fillmode": "overlay",
              "size": 10,
              "solidity": 0.2
             }
            },
            "type": "barpolar"
           }
          ],
          "carpet": [
           {
            "aaxis": {
             "endlinecolor": "#2a3f5f",
             "gridcolor": "white",
             "linecolor": "white",
             "minorgridcolor": "white",
             "startlinecolor": "#2a3f5f"
            },
            "baxis": {
             "endlinecolor": "#2a3f5f",
             "gridcolor": "white",
             "linecolor": "white",
             "minorgridcolor": "white",
             "startlinecolor": "#2a3f5f"
            },
            "type": "carpet"
           }
          ],
          "choropleth": [
           {
            "colorbar": {
             "outlinewidth": 0,
             "ticks": ""
            },
            "type": "choropleth"
           }
          ],
          "contour": [
           {
            "colorbar": {
             "outlinewidth": 0,
             "ticks": ""
            },
            "colorscale": [
             [
              0,
              "#0d0887"
             ],
             [
              0.1111111111111111,
              "#46039f"
             ],
             [
              0.2222222222222222,
              "#7201a8"
             ],
             [
              0.3333333333333333,
              "#9c179e"
             ],
             [
              0.4444444444444444,
              "#bd3786"
             ],
             [
              0.5555555555555556,
              "#d8576b"
             ],
             [
              0.6666666666666666,
              "#ed7953"
             ],
             [
              0.7777777777777778,
              "#fb9f3a"
             ],
             [
              0.8888888888888888,
              "#fdca26"
             ],
             [
              1,
              "#f0f921"
             ]
            ],
            "type": "contour"
           }
          ],
          "contourcarpet": [
           {
            "colorbar": {
             "outlinewidth": 0,
             "ticks": ""
            },
            "type": "contourcarpet"
           }
          ],
          "heatmap": [
           {
            "colorbar": {
             "outlinewidth": 0,
             "ticks": ""
            },
            "colorscale": [
             [
              0,
              "#0d0887"
             ],
             [
              0.1111111111111111,
              "#46039f"
             ],
             [
              0.2222222222222222,
              "#7201a8"
             ],
             [
              0.3333333333333333,
              "#9c179e"
             ],
             [
              0.4444444444444444,
              "#bd3786"
             ],
             [
              0.5555555555555556,
              "#d8576b"
             ],
             [
              0.6666666666666666,
              "#ed7953"
             ],
             [
              0.7777777777777778,
              "#fb9f3a"
             ],
             [
              0.8888888888888888,
              "#fdca26"
             ],
             [
              1,
              "#f0f921"
             ]
            ],
            "type": "heatmap"
           }
          ],
          "heatmapgl": [
           {
            "colorbar": {
             "outlinewidth": 0,
             "ticks": ""
            },
            "colorscale": [
             [
              0,
              "#0d0887"
             ],
             [
              0.1111111111111111,
              "#46039f"
             ],
             [
              0.2222222222222222,
              "#7201a8"
             ],
             [
              0.3333333333333333,
              "#9c179e"
             ],
             [
              0.4444444444444444,
              "#bd3786"
             ],
             [
              0.5555555555555556,
              "#d8576b"
             ],
             [
              0.6666666666666666,
              "#ed7953"
             ],
             [
              0.7777777777777778,
              "#fb9f3a"
             ],
             [
              0.8888888888888888,
              "#fdca26"
             ],
             [
              1,
              "#f0f921"
             ]
            ],
            "type": "heatmapgl"
           }
          ],
          "histogram": [
           {
            "marker": {
             "pattern": {
              "fillmode": "overlay",
              "size": 10,
              "solidity": 0.2
             }
            },
            "type": "histogram"
           }
          ],
          "histogram2d": [
           {
            "colorbar": {
             "outlinewidth": 0,
             "ticks": ""
            },
            "colorscale": [
             [
              0,
              "#0d0887"
             ],
             [
              0.1111111111111111,
              "#46039f"
             ],
             [
              0.2222222222222222,
              "#7201a8"
             ],
             [
              0.3333333333333333,
              "#9c179e"
             ],
             [
              0.4444444444444444,
              "#bd3786"
             ],
             [
              0.5555555555555556,
              "#d8576b"
             ],
             [
              0.6666666666666666,
              "#ed7953"
             ],
             [
              0.7777777777777778,
              "#fb9f3a"
             ],
             [
              0.8888888888888888,
              "#fdca26"
             ],
             [
              1,
              "#f0f921"
             ]
            ],
            "type": "histogram2d"
           }
          ],
          "histogram2dcontour": [
           {
            "colorbar": {
             "outlinewidth": 0,
             "ticks": ""
            },
            "colorscale": [
             [
              0,
              "#0d0887"
             ],
             [
              0.1111111111111111,
              "#46039f"
             ],
             [
              0.2222222222222222,
              "#7201a8"
             ],
             [
              0.3333333333333333,
              "#9c179e"
             ],
             [
              0.4444444444444444,
              "#bd3786"
             ],
             [
              0.5555555555555556,
              "#d8576b"
             ],
             [
              0.6666666666666666,
              "#ed7953"
             ],
             [
              0.7777777777777778,
              "#fb9f3a"
             ],
             [
              0.8888888888888888,
              "#fdca26"
             ],
             [
              1,
              "#f0f921"
             ]
            ],
            "type": "histogram2dcontour"
           }
          ],
          "mesh3d": [
           {
            "colorbar": {
             "outlinewidth": 0,
             "ticks": ""
            },
            "type": "mesh3d"
           }
          ],
          "parcoords": [
           {
            "line": {
             "colorbar": {
              "outlinewidth": 0,
              "ticks": ""
             }
            },
            "type": "parcoords"
           }
          ],
          "pie": [
           {
            "automargin": true,
            "type": "pie"
           }
          ],
          "scatter": [
           {
            "fillpattern": {
             "fillmode": "overlay",
             "size": 10,
             "solidity": 0.2
            },
            "type": "scatter"
           }
          ],
          "scatter3d": [
           {
            "line": {
             "colorbar": {
              "outlinewidth": 0,
              "ticks": ""
             }
            },
            "marker": {
             "colorbar": {
              "outlinewidth": 0,
              "ticks": ""
             }
            },
            "type": "scatter3d"
           }
          ],
          "scattercarpet": [
           {
            "marker": {
             "colorbar": {
              "outlinewidth": 0,
              "ticks": ""
             }
            },
            "type": "scattercarpet"
           }
          ],
          "scattergeo": [
           {
            "marker": {
             "colorbar": {
              "outlinewidth": 0,
              "ticks": ""
             }
            },
            "type": "scattergeo"
           }
          ],
          "scattergl": [
           {
            "marker": {
             "colorbar": {
              "outlinewidth": 0,
              "ticks": ""
             }
            },
            "type": "scattergl"
           }
          ],
          "scattermapbox": [
           {
            "marker": {
             "colorbar": {
              "outlinewidth": 0,
              "ticks": ""
             }
            },
            "type": "scattermapbox"
           }
          ],
          "scatterpolar": [
           {
            "marker": {
             "colorbar": {
              "outlinewidth": 0,
              "ticks": ""
             }
            },
            "type": "scatterpolar"
           }
          ],
          "scatterpolargl": [
           {
            "marker": {
             "colorbar": {
              "outlinewidth": 0,
              "ticks": ""
             }
            },
            "type": "scatterpolargl"
           }
          ],
          "scatterternary": [
           {
            "marker": {
             "colorbar": {
              "outlinewidth": 0,
              "ticks": ""
             }
            },
            "type": "scatterternary"
           }
          ],
          "surface": [
           {
            "colorbar": {
             "outlinewidth": 0,
             "ticks": ""
            },
            "colorscale": [
             [
              0,
              "#0d0887"
             ],
             [
              0.1111111111111111,
              "#46039f"
             ],
             [
              0.2222222222222222,
              "#7201a8"
             ],
             [
              0.3333333333333333,
              "#9c179e"
             ],
             [
              0.4444444444444444,
              "#bd3786"
             ],
             [
              0.5555555555555556,
              "#d8576b"
             ],
             [
              0.6666666666666666,
              "#ed7953"
             ],
             [
              0.7777777777777778,
              "#fb9f3a"
             ],
             [
              0.8888888888888888,
              "#fdca26"
             ],
             [
              1,
              "#f0f921"
             ]
            ],
            "type": "surface"
           }
          ],
          "table": [
           {
            "cells": {
             "fill": {
              "color": "#EBF0F8"
             },
             "line": {
              "color": "white"
             }
            },
            "header": {
             "fill": {
              "color": "#C8D4E3"
             },
             "line": {
              "color": "white"
             }
            },
            "type": "table"
           }
          ]
         },
         "layout": {
          "annotationdefaults": {
           "arrowcolor": "#2a3f5f",
           "arrowhead": 0,
           "arrowwidth": 1
          },
          "autotypenumbers": "strict",
          "coloraxis": {
           "colorbar": {
            "outlinewidth": 0,
            "ticks": ""
           }
          },
          "colorscale": {
           "diverging": [
            [
             0,
             "#8e0152"
            ],
            [
             0.1,
             "#c51b7d"
            ],
            [
             0.2,
             "#de77ae"
            ],
            [
             0.3,
             "#f1b6da"
            ],
            [
             0.4,
             "#fde0ef"
            ],
            [
             0.5,
             "#f7f7f7"
            ],
            [
             0.6,
             "#e6f5d0"
            ],
            [
             0.7,
             "#b8e186"
            ],
            [
             0.8,
             "#7fbc41"
            ],
            [
             0.9,
             "#4d9221"
            ],
            [
             1,
             "#276419"
            ]
           ],
           "sequential": [
            [
             0,
             "#0d0887"
            ],
            [
             0.1111111111111111,
             "#46039f"
            ],
            [
             0.2222222222222222,
             "#7201a8"
            ],
            [
             0.3333333333333333,
             "#9c179e"
            ],
            [
             0.4444444444444444,
             "#bd3786"
            ],
            [
             0.5555555555555556,
             "#d8576b"
            ],
            [
             0.6666666666666666,
             "#ed7953"
            ],
            [
             0.7777777777777778,
             "#fb9f3a"
            ],
            [
             0.8888888888888888,
             "#fdca26"
            ],
            [
             1,
             "#f0f921"
            ]
           ],
           "sequentialminus": [
            [
             0,
             "#0d0887"
            ],
            [
             0.1111111111111111,
             "#46039f"
            ],
            [
             0.2222222222222222,
             "#7201a8"
            ],
            [
             0.3333333333333333,
             "#9c179e"
            ],
            [
             0.4444444444444444,
             "#bd3786"
            ],
            [
             0.5555555555555556,
             "#d8576b"
            ],
            [
             0.6666666666666666,
             "#ed7953"
            ],
            [
             0.7777777777777778,
             "#fb9f3a"
            ],
            [
             0.8888888888888888,
             "#fdca26"
            ],
            [
             1,
             "#f0f921"
            ]
           ]
          },
          "colorway": [
           "#636efa",
           "#EF553B",
           "#00cc96",
           "#ab63fa",
           "#FFA15A",
           "#19d3f3",
           "#FF6692",
           "#B6E880",
           "#FF97FF",
           "#FECB52"
          ],
          "font": {
           "color": "#2a3f5f"
          },
          "geo": {
           "bgcolor": "white",
           "lakecolor": "white",
           "landcolor": "#E5ECF6",
           "showlakes": true,
           "showland": true,
           "subunitcolor": "white"
          },
          "hoverlabel": {
           "align": "left"
          },
          "hovermode": "closest",
          "mapbox": {
           "style": "light"
          },
          "paper_bgcolor": "white",
          "plot_bgcolor": "#E5ECF6",
          "polar": {
           "angularaxis": {
            "gridcolor": "white",
            "linecolor": "white",
            "ticks": ""
           },
           "bgcolor": "#E5ECF6",
           "radialaxis": {
            "gridcolor": "white",
            "linecolor": "white",
            "ticks": ""
           }
          },
          "scene": {
           "xaxis": {
            "backgroundcolor": "#E5ECF6",
            "gridcolor": "white",
            "gridwidth": 2,
            "linecolor": "white",
            "showbackground": true,
            "ticks": "",
            "zerolinecolor": "white"
           },
           "yaxis": {
            "backgroundcolor": "#E5ECF6",
            "gridcolor": "white",
            "gridwidth": 2,
            "linecolor": "white",
            "showbackground": true,
            "ticks": "",
            "zerolinecolor": "white"
           },
           "zaxis": {
            "backgroundcolor": "#E5ECF6",
            "gridcolor": "white",
            "gridwidth": 2,
            "linecolor": "white",
            "showbackground": true,
            "ticks": "",
            "zerolinecolor": "white"
           }
          },
          "shapedefaults": {
           "line": {
            "color": "#2a3f5f"
           }
          },
          "ternary": {
           "aaxis": {
            "gridcolor": "white",
            "linecolor": "white",
            "ticks": ""
           },
           "baxis": {
            "gridcolor": "white",
            "linecolor": "white",
            "ticks": ""
           },
           "bgcolor": "#E5ECF6",
           "caxis": {
            "gridcolor": "white",
            "linecolor": "white",
            "ticks": ""
           }
          },
          "title": {
           "x": 0.05
          },
          "xaxis": {
           "automargin": true,
           "gridcolor": "white",
           "linecolor": "white",
           "ticks": "",
           "title": {
            "standoff": 15
           },
           "zerolinecolor": "white",
           "zerolinewidth": 2
          },
          "yaxis": {
           "automargin": true,
           "gridcolor": "white",
           "linecolor": "white",
           "ticks": "",
           "title": {
            "standoff": 15
           },
           "zerolinecolor": "white",
           "zerolinewidth": 2
          }
         }
        }
       }
      }
     },
     "metadata": {},
     "output_type": "display_data"
    }
   ],
   "source": [
    "fig = px.choropleth(df, locations='location',locationmode=\"country names\",scope=\"world\",color_continuous_scale=\"Viridis_r\")\n",
    "fig.update_layout(margin={\"r\":0,\"t\":0,\"l\":0,\"b\":0})\n",
    "fig.show()"
   ]
  },
  {
   "cell_type": "code",
   "execution_count": null,
   "metadata": {},
   "outputs": [],
   "source": []
  }
 ],
 "metadata": {
  "kernelspec": {
   "display_name": "base",
   "language": "python",
   "name": "python3"
  },
  "language_info": {
   "codemirror_mode": {
    "name": "ipython",
    "version": 3
   },
   "file_extension": ".py",
   "mimetype": "text/x-python",
   "name": "python",
   "nbconvert_exporter": "python",
   "pygments_lexer": "ipython3",
   "version": "3.9.13"
  },
  "orig_nbformat": 4
 },
 "nbformat": 4,
 "nbformat_minor": 2
}
